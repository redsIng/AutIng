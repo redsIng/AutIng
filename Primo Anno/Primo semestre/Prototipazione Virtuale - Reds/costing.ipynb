{
 "cells": [
  {
   "cell_type": "markdown",
   "metadata": {},
   "source": [
    "## Analisi dei Costi"
   ]
  },
  {
   "cell_type": "code",
   "execution_count": 3,
   "metadata": {},
   "outputs": [],
   "source": [
    "import numpy as np\r\n",
    "def costing(base, heigth, depth):\r\n",
    "    b = (base+50)*np.power(float(10),-1)\r\n",
    "    h = (heigth+50)*np.power(float(10),-1)\r\n",
    "    A_c = b*h\r\n",
    "    # Profondità dello stampo in cm\r\n",
    "    h_p =  (depth)*np.power(float(10),-1)\r\n",
    "    # Costo del Porta Stampo\r\n",
    "    C_b = 1000 + 0.45*A_c*np.power(h_p, 0.4)\r\n",
    "    # Costo dello Stampo \r\n",
    "    C_n = 5*C_b\r\n",
    "    # Risultati\r\n",
    "    print(\"Costo del Porta Stampo = {}\".format(C_b))\r\n",
    "    print(\"Costo dello Stampo = {}\".format(C_n))\r\n",
    "    return C_n"
   ]
  },
  {
   "cell_type": "code",
   "execution_count": 6,
   "metadata": {},
   "outputs": [
    {
     "name": "stdout",
     "output_type": "stream",
     "text": [
      "Costo del Porta Stampo = 1059.4332131494605\n",
      "Costo dello Stampo = 5297.166065747302\n"
     ]
    },
    {
     "data": {
      "text/plain": [
       "(33.7, 33.7, 66.4)"
      ]
     },
     "execution_count": 6,
     "metadata": {},
     "output_type": "execute_result"
    }
   ],
   "source": [
    "costing(14.35+14.35,14.35+14.35,66.4)\r\n",
    "14.35+14.35+5,14.35+14.35+5,66.4\r\n"
   ]
  }
 ],
 "metadata": {
  "interpreter": {
   "hash": "b3ba2566441a7c06988d0923437866b63cedc61552a5af99d1f4fb67d367b25f"
  },
  "kernelspec": {
   "display_name": "Python 3.8.8 64-bit ('base': conda)",
   "name": "python3"
  },
  "language_info": {
   "codemirror_mode": {
    "name": "ipython",
    "version": 3
   },
   "file_extension": ".py",
   "mimetype": "text/x-python",
   "name": "python",
   "nbconvert_exporter": "python",
   "pygments_lexer": "ipython3",
   "version": "3.8.8"
  },
  "orig_nbformat": 4
 },
 "nbformat": 4,
 "nbformat_minor": 2
}