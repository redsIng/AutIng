{
 "cells": [
  {
   "cell_type": "markdown",
   "metadata": {},
   "source": [
    "Da quello che dice fabiano i passaggi sono molto semplici e con l'uso di pipeline che mi ha detto rob non ci si deve impazzire.\n",
    "allora i passi da seguire sono:\n",
    "\n",
    "1. Utilizzare KNNImputer --> per rimpiazzare i nan --> molto semplice la funzione fa tutto da solo\n",
    "2. Utilizzare DBSCAN --> per trovare Outliers Multivariati e eliminarli ovvero i valori che non centrano proprio un cazzo con il dataset e vanno eliminati\n",
    "3. Utilizzare KNNReplacerIQR --> la classe che ho scritto qui sopra per trovare gli outliers features per features. Quello che fa la classe è cercare gli outlier attraverso i percentili, poi rimpiazzarli con dei nan per poi applicarci KNNImputer\n",
    "4. Applicare come classificatore QDA() ovvero quadratic discriminant analysis\n",
    "\n",
    "Tutte queste cose hanno una marea di paramentri, per capire la giusta combinazione si usa pipeline che in poche parole esegue a ripetizione i passaggi che gli dici tu con ogni possibile combinazione di parametri che hai scelto. Per esempio:\n",
    "    \n",
    "    pipe_rbf_knn_iqr = Pipeline([('imputer', KNNImputer()),\n",
    "                                ('replacer', KNNReplacerIQR()),\n",
    "                                ('scaler', StandardScaler()),\n",
    "                                ('classifier',\n",
    "                                 SVC(kernel='rbf',\n",
    "                                     decision_function_shape='ovo',\n",
    "                                     random_state=42,\n",
    "                                     cache_size=3000))\n",
    "                                 ])\n",
    "questa pipe esegue a ripetizione i passaggi in fila come c'è scritto ovvero prima imputer poi replacer poi scaler e così via...\n",
    "Per settare i parametri semplicemente si fa :\n",
    "\n",
    "     'nomePassaggio__parametroDaSettare':[lista dei parametri]\n",
    "\n",
    "    grid_pipe_knn_rbf = {'imputer__n_neighbors': [2,5,10],\n",
    "                             'replacer__n_neighbors': [2,5,10],\n",
    "                             'classifier__C': [50],\n",
    "                             'classifier__gamma': [0.01],\n",
    "                             'classifier__class_weight': [None]\n",
    "                             }\n",
    "in questo modo pipeline troverà la combinazione migliore dei parametri."
   ]
  },
  {
   "cell_type": "code",
   "execution_count": null,
   "metadata": {},
   "outputs": [],
   "source": []
  }
 ],
 "metadata": {
  "kernelspec": {
   "display_name": "Python 3",
   "language": "python",
   "name": "python3"
  },
  "language_info": {
   "codemirror_mode": {
    "name": "ipython",
    "version": 3
   },
   "file_extension": ".py",
   "mimetype": "text/x-python",
   "name": "python",
   "nbconvert_exporter": "python",
   "pygments_lexer": "ipython3",
   "version": "3.7.7"
  }
 },
 "nbformat": 4,
 "nbformat_minor": 4
}