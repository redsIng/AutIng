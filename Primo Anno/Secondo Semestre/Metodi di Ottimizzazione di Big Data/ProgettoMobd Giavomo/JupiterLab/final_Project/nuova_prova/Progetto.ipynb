{
 "cells": [
  {
   "cell_type": "markdown",
   "metadata": {},
   "source": [
    "# PROGETTO MOBD"
   ]
  },
  {
   "cell_type": "markdown",
   "metadata": {},
   "source": [
    "## Import Packege"
   ]
  },
  {
   "cell_type": "code",
   "execution_count": 4,
   "metadata": {},
   "outputs": [],
   "source": [
    "import pandas as pd\n",
    "import numpy as np\n",
    "import seaborn as sns\n",
    "import matplotlib.pyplot as plt\n",
    "import pickle\n",
    "# Rimpiazzo NaN\n",
    "from sklearn.impute import KNNImputer\n",
    "# ELimino Outliers Multivariati\n",
    "from collections import Counter\n",
    "from sklearn.cluster import DBSCAN\n",
    "# Spit Dati\n",
    "import sklearn.model_selection as model_select\n",
    "# Robba per Pipeline\n",
    "import sklearn.metrics as metrics\n",
    "from sklearn.pipeline import Pipeline\n",
    "from sklearn.preprocessing import RobustScaler\n",
    "from sklearn.ensemble import BaggingClassifier\n",
    "from sklearn.discriminant_analysis import QuadraticDiscriminantAnalysis as QDA\n",
    "from sklearn.svm import SVC\n",
    "from sklearn.preprocessing import StandardScaler\n",
    "from imblearn.over_sampling import SMOTE\n",
    "from imblearn.over_sampling import ADASYN\n",
    "from sklearn.decomposition import PCA\n",
    "from sklearn.ensemble import RandomForestClassifier\n",
    "# Features selections\n",
    "from sklearn.feature_selection import SelectFromModel\n",
    "from sklearn.svm import LinearSVC"
   ]
  },
  {
   "cell_type": "code",
   "execution_count": 5,
   "metadata": {},
   "outputs": [
    {
     "output_type": "execute_result",
     "data": {
      "text/plain": [
       "            F1        F2        F3        F4        F5        F6        F7  \\\n",
       "0    -0.555694 -0.848258  0.132180 -4.061760  1.661394  2.219988  0.360537   \n",
       "1     0.293193 -2.628978 -1.154407  0.538828 -0.169857  3.487574  0.443397   \n",
       "2    -2.078656 -0.834492  1.241461  1.010122 -1.638526  0.247378 -1.887390   \n",
       "3    -1.294256 -2.804065 -1.335397 -1.351379 -0.327137  1.199219  0.262458   \n",
       "4    -0.525611  0.024948  1.609361 -0.248425  1.533188  0.580862  0.049771   \n",
       "...        ...       ...       ...       ...       ...       ...       ...   \n",
       "7995  0.405098  0.592920  2.441859 -1.134919  2.248627  2.509097 -0.227617   \n",
       "7996 -0.404388  1.813804 -2.483380  2.093664  0.139423  2.617027  0.489677   \n",
       "7997  0.233546 -1.003142 -2.121826  1.581558  1.152723 -0.987152  0.337969   \n",
       "7998  1.120382  0.194409 -0.672968  0.005154  2.290353  4.112554  0.720367   \n",
       "7999  0.994641 -1.185386 -3.610239  0.185566 -1.534623  3.021333 -0.721372   \n",
       "\n",
       "            F8        F9       F10  ...       F12       F13       F14  \\\n",
       "0     2.537116 -0.613588  2.078144  ... -2.492234  0.808907 -1.078887   \n",
       "1    -0.006410 -0.125778  1.223669  ... -1.723842  1.772836  0.467387   \n",
       "2    -1.331368 -2.159086  0.002788  ... -1.686278 -1.047410 -1.133299   \n",
       "3     0.825120 -0.638883  1.660732  ...  4.437570 -0.093413  2.637345   \n",
       "4    -0.430270 -0.714264 -0.186867  ...  0.404803 -0.733368  1.288384   \n",
       "...        ...       ...       ...  ...       ...       ...       ...   \n",
       "7995  0.275321 -0.274926 -0.595862  ... -0.169544 -0.255823  2.695956   \n",
       "7996  1.387914 -0.363073  0.030530  ...  0.124103  0.056482 -0.333988   \n",
       "7997 -4.654229 -0.417682 -1.260857  ...  2.469214  2.782867  0.888288   \n",
       "7998  0.563533 -1.009534 -1.551473  ...  0.607569  3.102179  4.237942   \n",
       "7999 -3.250708 -0.034000 -0.102102  ... -3.273256  3.908861  0.809098   \n",
       "\n",
       "           F15       F16       F17       F18       F19       F20  CLASS  \n",
       "0     3.438161  2.372122  1.899934  2.372122  2.219416  0.132180      2  \n",
       "1    -1.501851 -3.599221 -0.968531 -3.599221  1.127776 -1.154407      0  \n",
       "2    -1.953928 -1.149684  1.111692 -1.149684  0.134184  1.241461      1  \n",
       "3    -2.415704 -4.679002  0.511314 -4.679002  0.805571 -1.335397      0  \n",
       "4    -1.646543 -1.020989  0.658584 -1.020989  1.412792  1.609361      1  \n",
       "...        ...       ...       ...       ...       ...       ...    ...  \n",
       "7995 -2.220396 -2.432903 -0.131110 -2.432903 -0.479939  2.441859      1  \n",
       "7996 -1.204211 -0.224673  1.521622 -0.224673 -1.096852 -2.483380      2  \n",
       "7997  0.335607 -2.248307 -1.386542 -2.248307  0.934043 -2.121826      0  \n",
       "7998 -0.710731 -0.359420 -1.500903 -0.359420 -0.658633 -0.672968      1  \n",
       "7999  2.970013 -2.104526 -0.419366 -2.104526  1.655029 -3.610239      3  \n",
       "\n",
       "[8000 rows x 21 columns]"
      ],
      "text/html": "<div>\n<style scoped>\n    .dataframe tbody tr th:only-of-type {\n        vertical-align: middle;\n    }\n\n    .dataframe tbody tr th {\n        vertical-align: top;\n    }\n\n    .dataframe thead th {\n        text-align: right;\n    }\n</style>\n<table border=\"1\" class=\"dataframe\">\n  <thead>\n    <tr style=\"text-align: right;\">\n      <th></th>\n      <th>F1</th>\n      <th>F2</th>\n      <th>F3</th>\n      <th>F4</th>\n      <th>F5</th>\n      <th>F6</th>\n      <th>F7</th>\n      <th>F8</th>\n      <th>F9</th>\n      <th>F10</th>\n      <th>...</th>\n      <th>F12</th>\n      <th>F13</th>\n      <th>F14</th>\n      <th>F15</th>\n      <th>F16</th>\n      <th>F17</th>\n      <th>F18</th>\n      <th>F19</th>\n      <th>F20</th>\n      <th>CLASS</th>\n    </tr>\n  </thead>\n  <tbody>\n    <tr>\n      <th>0</th>\n      <td>-0.555694</td>\n      <td>-0.848258</td>\n      <td>0.132180</td>\n      <td>-4.061760</td>\n      <td>1.661394</td>\n      <td>2.219988</td>\n      <td>0.360537</td>\n      <td>2.537116</td>\n      <td>-0.613588</td>\n      <td>2.078144</td>\n      <td>...</td>\n      <td>-2.492234</td>\n      <td>0.808907</td>\n      <td>-1.078887</td>\n      <td>3.438161</td>\n      <td>2.372122</td>\n      <td>1.899934</td>\n      <td>2.372122</td>\n      <td>2.219416</td>\n      <td>0.132180</td>\n      <td>2</td>\n    </tr>\n    <tr>\n      <th>1</th>\n      <td>0.293193</td>\n      <td>-2.628978</td>\n      <td>-1.154407</td>\n      <td>0.538828</td>\n      <td>-0.169857</td>\n      <td>3.487574</td>\n      <td>0.443397</td>\n      <td>-0.006410</td>\n      <td>-0.125778</td>\n      <td>1.223669</td>\n      <td>...</td>\n      <td>-1.723842</td>\n      <td>1.772836</td>\n      <td>0.467387</td>\n      <td>-1.501851</td>\n      <td>-3.599221</td>\n      <td>-0.968531</td>\n      <td>-3.599221</td>\n      <td>1.127776</td>\n      <td>-1.154407</td>\n      <td>0</td>\n    </tr>\n    <tr>\n      <th>2</th>\n      <td>-2.078656</td>\n      <td>-0.834492</td>\n      <td>1.241461</td>\n      <td>1.010122</td>\n      <td>-1.638526</td>\n      <td>0.247378</td>\n      <td>-1.887390</td>\n      <td>-1.331368</td>\n      <td>-2.159086</td>\n      <td>0.002788</td>\n      <td>...</td>\n      <td>-1.686278</td>\n      <td>-1.047410</td>\n      <td>-1.133299</td>\n      <td>-1.953928</td>\n      <td>-1.149684</td>\n      <td>1.111692</td>\n      <td>-1.149684</td>\n      <td>0.134184</td>\n      <td>1.241461</td>\n      <td>1</td>\n    </tr>\n    <tr>\n      <th>3</th>\n      <td>-1.294256</td>\n      <td>-2.804065</td>\n      <td>-1.335397</td>\n      <td>-1.351379</td>\n      <td>-0.327137</td>\n      <td>1.199219</td>\n      <td>0.262458</td>\n      <td>0.825120</td>\n      <td>-0.638883</td>\n      <td>1.660732</td>\n      <td>...</td>\n      <td>4.437570</td>\n      <td>-0.093413</td>\n      <td>2.637345</td>\n      <td>-2.415704</td>\n      <td>-4.679002</td>\n      <td>0.511314</td>\n      <td>-4.679002</td>\n      <td>0.805571</td>\n      <td>-1.335397</td>\n      <td>0</td>\n    </tr>\n    <tr>\n      <th>4</th>\n      <td>-0.525611</td>\n      <td>0.024948</td>\n      <td>1.609361</td>\n      <td>-0.248425</td>\n      <td>1.533188</td>\n      <td>0.580862</td>\n      <td>0.049771</td>\n      <td>-0.430270</td>\n      <td>-0.714264</td>\n      <td>-0.186867</td>\n      <td>...</td>\n      <td>0.404803</td>\n      <td>-0.733368</td>\n      <td>1.288384</td>\n      <td>-1.646543</td>\n      <td>-1.020989</td>\n      <td>0.658584</td>\n      <td>-1.020989</td>\n      <td>1.412792</td>\n      <td>1.609361</td>\n      <td>1</td>\n    </tr>\n    <tr>\n      <th>...</th>\n      <td>...</td>\n      <td>...</td>\n      <td>...</td>\n      <td>...</td>\n      <td>...</td>\n      <td>...</td>\n      <td>...</td>\n      <td>...</td>\n      <td>...</td>\n      <td>...</td>\n      <td>...</td>\n      <td>...</td>\n      <td>...</td>\n      <td>...</td>\n      <td>...</td>\n      <td>...</td>\n      <td>...</td>\n      <td>...</td>\n      <td>...</td>\n      <td>...</td>\n      <td>...</td>\n    </tr>\n    <tr>\n      <th>7995</th>\n      <td>0.405098</td>\n      <td>0.592920</td>\n      <td>2.441859</td>\n      <td>-1.134919</td>\n      <td>2.248627</td>\n      <td>2.509097</td>\n      <td>-0.227617</td>\n      <td>0.275321</td>\n      <td>-0.274926</td>\n      <td>-0.595862</td>\n      <td>...</td>\n      <td>-0.169544</td>\n      <td>-0.255823</td>\n      <td>2.695956</td>\n      <td>-2.220396</td>\n      <td>-2.432903</td>\n      <td>-0.131110</td>\n      <td>-2.432903</td>\n      <td>-0.479939</td>\n      <td>2.441859</td>\n      <td>1</td>\n    </tr>\n    <tr>\n      <th>7996</th>\n      <td>-0.404388</td>\n      <td>1.813804</td>\n      <td>-2.483380</td>\n      <td>2.093664</td>\n      <td>0.139423</td>\n      <td>2.617027</td>\n      <td>0.489677</td>\n      <td>1.387914</td>\n      <td>-0.363073</td>\n      <td>0.030530</td>\n      <td>...</td>\n      <td>0.124103</td>\n      <td>0.056482</td>\n      <td>-0.333988</td>\n      <td>-1.204211</td>\n      <td>-0.224673</td>\n      <td>1.521622</td>\n      <td>-0.224673</td>\n      <td>-1.096852</td>\n      <td>-2.483380</td>\n      <td>2</td>\n    </tr>\n    <tr>\n      <th>7997</th>\n      <td>0.233546</td>\n      <td>-1.003142</td>\n      <td>-2.121826</td>\n      <td>1.581558</td>\n      <td>1.152723</td>\n      <td>-0.987152</td>\n      <td>0.337969</td>\n      <td>-4.654229</td>\n      <td>-0.417682</td>\n      <td>-1.260857</td>\n      <td>...</td>\n      <td>2.469214</td>\n      <td>2.782867</td>\n      <td>0.888288</td>\n      <td>0.335607</td>\n      <td>-2.248307</td>\n      <td>-1.386542</td>\n      <td>-2.248307</td>\n      <td>0.934043</td>\n      <td>-2.121826</td>\n      <td>0</td>\n    </tr>\n    <tr>\n      <th>7998</th>\n      <td>1.120382</td>\n      <td>0.194409</td>\n      <td>-0.672968</td>\n      <td>0.005154</td>\n      <td>2.290353</td>\n      <td>4.112554</td>\n      <td>0.720367</td>\n      <td>0.563533</td>\n      <td>-1.009534</td>\n      <td>-1.551473</td>\n      <td>...</td>\n      <td>0.607569</td>\n      <td>3.102179</td>\n      <td>4.237942</td>\n      <td>-0.710731</td>\n      <td>-0.359420</td>\n      <td>-1.500903</td>\n      <td>-0.359420</td>\n      <td>-0.658633</td>\n      <td>-0.672968</td>\n      <td>1</td>\n    </tr>\n    <tr>\n      <th>7999</th>\n      <td>0.994641</td>\n      <td>-1.185386</td>\n      <td>-3.610239</td>\n      <td>0.185566</td>\n      <td>-1.534623</td>\n      <td>3.021333</td>\n      <td>-0.721372</td>\n      <td>-3.250708</td>\n      <td>-0.034000</td>\n      <td>-0.102102</td>\n      <td>...</td>\n      <td>-3.273256</td>\n      <td>3.908861</td>\n      <td>0.809098</td>\n      <td>2.970013</td>\n      <td>-2.104526</td>\n      <td>-0.419366</td>\n      <td>-2.104526</td>\n      <td>1.655029</td>\n      <td>-3.610239</td>\n      <td>3</td>\n    </tr>\n  </tbody>\n</table>\n<p>8000 rows × 21 columns</p>\n</div>"
     },
     "metadata": {},
     "execution_count": 5
    }
   ],
   "source": [
    "#Importo dati\n",
    "dataset = pd.read_csv('training_set1.csv')\n",
    "dataset"
   ]
  },
  {
   "cell_type": "code",
   "execution_count": 6,
   "metadata": {},
   "outputs": [
    {
     "output_type": "stream",
     "name": "stdout",
     "text": [
      "Variabili Indipendenti X:\n             F1        F2        F3        F4        F5        F6        F7  \\\n0    -0.555694 -0.848258  0.132180 -4.061760  1.661394  2.219988  0.360537   \n1     0.293193 -2.628978 -1.154407  0.538828 -0.169857  3.487574  0.443397   \n2    -2.078656 -0.834492  1.241461  1.010122 -1.638526  0.247378 -1.887390   \n3    -1.294256 -2.804065 -1.335397 -1.351379 -0.327137  1.199219  0.262458   \n4    -0.525611  0.024948  1.609361 -0.248425  1.533188  0.580862  0.049771   \n...        ...       ...       ...       ...       ...       ...       ...   \n7995  0.405098  0.592920  2.441859 -1.134919  2.248627  2.509097 -0.227617   \n7996 -0.404388  1.813804 -2.483380  2.093664  0.139423  2.617027  0.489677   \n7997  0.233546 -1.003142 -2.121826  1.581558  1.152723 -0.987152  0.337969   \n7998  1.120382  0.194409 -0.672968  0.005154  2.290353  4.112554  0.720367   \n7999  0.994641 -1.185386 -3.610239  0.185566 -1.534623  3.021333 -0.721372   \n\n            F8        F9       F10       F11       F12       F13       F14  \\\n0     2.537116 -0.613588  2.078144  0.128270 -2.492234  0.808907 -1.078887   \n1    -0.006410 -0.125778  1.223669  0.239508 -1.723842  1.772836  0.467387   \n2    -1.331368 -2.159086  0.002788 -0.397360 -1.686278 -1.047410 -1.133299   \n3     0.825120 -0.638883  1.660732 -2.045188  4.437570 -0.093413  2.637345   \n4    -0.430270 -0.714264 -0.186867  0.572004  0.404803 -0.733368  1.288384   \n...        ...       ...       ...       ...       ...       ...       ...   \n7995  0.275321 -0.274926 -0.595862  1.379110 -0.169544 -0.255823  2.695956   \n7996  1.387914 -0.363073  0.030530  0.962490  0.124103  0.056482 -0.333988   \n7997 -4.654229 -0.417682 -1.260857  4.472366  2.469214  2.782867  0.888288   \n7998  0.563533 -1.009534 -1.551473 -0.697174  0.607569  3.102179  4.237942   \n7999 -3.250708 -0.034000 -0.102102  6.857379 -3.273256  3.908861  0.809098   \n\n           F15       F16       F17       F18       F19       F20  \n0     3.438161  2.372122  1.899934  2.372122  2.219416  0.132180  \n1    -1.501851 -3.599221 -0.968531 -3.599221  1.127776 -1.154407  \n2    -1.953928 -1.149684  1.111692 -1.149684  0.134184  1.241461  \n3    -2.415704 -4.679002  0.511314 -4.679002  0.805571 -1.335397  \n4    -1.646543 -1.020989  0.658584 -1.020989  1.412792  1.609361  \n...        ...       ...       ...       ...       ...       ...  \n7995 -2.220396 -2.432903 -0.131110 -2.432903 -0.479939  2.441859  \n7996 -1.204211 -0.224673  1.521622 -0.224673 -1.096852 -2.483380  \n7997  0.335607 -2.248307 -1.386542 -2.248307  0.934043 -2.121826  \n7998 -0.710731 -0.359420 -1.500903 -0.359420 -0.658633 -0.672968  \n7999  2.970013 -2.104526 -0.419366 -2.104526  1.655029 -3.610239  \n\n[8000 rows x 20 columns]\n\nVariabili Dipendenti Y:\n       CLASS\n0         2\n1         0\n2         1\n3         0\n4         1\n...     ...\n7995      1\n7996      2\n7997      0\n7998      1\n7999      3\n\n[8000 rows x 1 columns]\nLista Features:\n ['F1', 'F2', 'F3', 'F4', 'F5', 'F6', 'F7', 'F8', 'F9', 'F10', 'F11', 'F12', 'F13', 'F14', 'F15', 'F16', 'F17', 'F18', 'F19', 'F20']\n"
     ]
    }
   ],
   "source": [
    "# Separiamo i valori dalle features dalle classi\n",
    "target = 'CLASS'\n",
    "x = dataset.drop(target, axis=1)\n",
    "print('Variabili Indipendenti X:\\n', x)\n",
    "# Separiamo i valori delle Classi dalle features\n",
    "y = dataset[[target]]\n",
    "print('\\nVariabili Dipendenti Y:\\n', y)\n",
    "# Lista delle features\n",
    "features_list = x.columns.values.tolist()\n",
    "print('Lista Features:\\n', features_list)"
   ]
  },
  {
   "cell_type": "markdown",
   "metadata": {},
   "source": [
    "## Rimpiazzo subito i NaN"
   ]
  },
  {
   "cell_type": "code",
   "execution_count": 7,
   "metadata": {},
   "outputs": [],
   "source": [
    "# Funzione base per il calcolo dei NaN\n",
    "def get_na_count(dataset):\n",
    "    # per ogni elemento (i,j) del dataset, isna() restituisce \n",
    "    # TRUE/FALSE se il valore corrispondente è mancante/presente\n",
    "    boolean_mask = dataset.isna()\n",
    "    # contiamo il numero di TRUE per ogni attributo sul dataset\n",
    "    return boolean_mask.sum(axis=0)"
   ]
  },
  {
   "cell_type": "code",
   "execution_count": 8,
   "metadata": {},
   "outputs": [
    {
     "output_type": "stream",
     "name": "stdout",
     "text": [
      "F1      6\nF2      6\nF3      1\nF4      1\nF5      4\nF6      6\nF7      4\nF8      9\nF9      6\nF10     6\nF11     5\nF12     6\nF13     3\nF14    10\nF15     2\nF16     6\nF17     4\nF18     7\nF19     5\nF20     3\ndtype: int64\n"
     ]
    }
   ],
   "source": [
    "summary_nan_1 = get_na_count(x)\n",
    "print(summary_nan_1)"
   ]
  },
  {
   "cell_type": "code",
   "execution_count": 9,
   "metadata": {},
   "outputs": [
    {
     "output_type": "stream",
     "name": "stdout",
     "text": [
      "0     0\n1     0\n2     0\n3     0\n4     0\n5     0\n6     0\n7     0\n8     0\n9     0\n10    0\n11    0\n12    0\n13    0\n14    0\n15    0\n16    0\n17    0\n18    0\n19    0\ndtype: int64\n"
     ]
    }
   ],
   "source": [
    "imputer = KNNImputer(n_neighbors=2)\n",
    "dati_imputati = imputer.fit(x).transform(x)\n",
    "summary_nan_2 = get_na_count(pd.DataFrame(dati_imputati))\n",
    "print(summary_nan_2)"
   ]
  },
  {
   "cell_type": "code",
   "execution_count": 10,
   "metadata": {},
   "outputs": [],
   "source": [
    "# Dataset senza NaN\n",
    "X_imputer = pd.DataFrame(dati_imputati)"
   ]
  },
  {
   "cell_type": "code",
   "execution_count": 11,
   "metadata": {},
   "outputs": [
    {
     "output_type": "execute_result",
     "data": {
      "text/plain": [
       "                0            1            2            3            4   \\\n",
       "count  8000.000000  8000.000000  8000.000000  8000.000000  8000.000000   \n",
       "mean     -0.012763    -0.261770    -0.355985    -0.107223    -0.505726   \n",
       "std       1.006266     1.852754     1.794632     3.038180     1.818525   \n",
       "min      -4.181155    -6.980290    -7.563245   -13.133565    -9.011808   \n",
       "25%      -0.697289    -1.441506    -1.563905    -1.853387    -1.734750   \n",
       "50%      -0.028030    -0.261043    -0.374563    -0.021507    -0.511772   \n",
       "75%       0.665953     0.944838     0.824602     1.757076     0.688574   \n",
       "max       3.774161     7.155359     6.774458    10.975842     6.420768   \n",
       "\n",
       "                5            6            7            8            9   \\\n",
       "count  8000.000000  8000.000000  8000.000000  8000.000000  8000.000000   \n",
       "mean      0.171859    -0.142593     0.136592    -0.004754     0.017493   \n",
       "std       3.801289     1.902182     1.845978     1.005285     1.005351   \n",
       "min     -15.887455    -7.934826    -8.608330    -3.472781    -3.697495   \n",
       "25%      -2.186274    -1.412976    -1.098820    -0.684826    -0.671742   \n",
       "50%       0.087551    -0.117258     0.146639     0.003925     0.028194   \n",
       "75%       2.445656     1.121624     1.411258     0.664399     0.704030   \n",
       "max      17.343261     7.222491     6.664533     3.811616     3.391975   \n",
       "\n",
       "                10           11           12           13           14  \\\n",
       "count  8000.000000  8000.000000  8000.000000  8000.000000  8000.000000   \n",
       "mean     -0.100276     0.000523    -0.051111    -0.010730     0.033355   \n",
       "std       5.071869     1.959944     1.936157     2.068932     2.013369   \n",
       "min     -19.416383    -7.212589    -8.133189    -7.823196    -8.969136   \n",
       "25%      -3.443353    -1.324990    -1.336281    -1.382711    -1.298096   \n",
       "50%       0.076018    -0.037385    -0.066816    -0.036499    -0.033036   \n",
       "75%       3.373809     1.285592     1.244561     1.365567     1.314574   \n",
       "max      19.260556     7.181241     8.819808     7.970802     9.235606   \n",
       "\n",
       "                15           16           17           18           19  \n",
       "count  8000.000000  8000.000000  8000.000000  8000.000000  8000.000000  \n",
       "mean     -0.294075    -0.026589    -0.293967     0.000654    -0.356006  \n",
       "std       1.970577     0.978275     1.970967     0.996563     1.794525  \n",
       "min      -7.037129    -3.621038    -7.037129    -4.013615    -7.563245  \n",
       "25%      -1.611778    -0.689233    -1.612217    -0.669329    -1.563380  \n",
       "50%      -0.308584    -0.035249    -0.308293    -0.005563    -0.374563  \n",
       "75%       1.021980     0.635102     1.022347     0.675878     0.824602  \n",
       "max       9.415568     3.951352     9.415568     3.606960     6.774458  "
      ],
      "text/html": "<div>\n<style scoped>\n    .dataframe tbody tr th:only-of-type {\n        vertical-align: middle;\n    }\n\n    .dataframe tbody tr th {\n        vertical-align: top;\n    }\n\n    .dataframe thead th {\n        text-align: right;\n    }\n</style>\n<table border=\"1\" class=\"dataframe\">\n  <thead>\n    <tr style=\"text-align: right;\">\n      <th></th>\n      <th>0</th>\n      <th>1</th>\n      <th>2</th>\n      <th>3</th>\n      <th>4</th>\n      <th>5</th>\n      <th>6</th>\n      <th>7</th>\n      <th>8</th>\n      <th>9</th>\n      <th>10</th>\n      <th>11</th>\n      <th>12</th>\n      <th>13</th>\n      <th>14</th>\n      <th>15</th>\n      <th>16</th>\n      <th>17</th>\n      <th>18</th>\n      <th>19</th>\n    </tr>\n  </thead>\n  <tbody>\n    <tr>\n      <th>count</th>\n      <td>8000.000000</td>\n      <td>8000.000000</td>\n      <td>8000.000000</td>\n      <td>8000.000000</td>\n      <td>8000.000000</td>\n      <td>8000.000000</td>\n      <td>8000.000000</td>\n      <td>8000.000000</td>\n      <td>8000.000000</td>\n      <td>8000.000000</td>\n      <td>8000.000000</td>\n      <td>8000.000000</td>\n      <td>8000.000000</td>\n      <td>8000.000000</td>\n      <td>8000.000000</td>\n      <td>8000.000000</td>\n      <td>8000.000000</td>\n      <td>8000.000000</td>\n      <td>8000.000000</td>\n      <td>8000.000000</td>\n    </tr>\n    <tr>\n      <th>mean</th>\n      <td>-0.012763</td>\n      <td>-0.261770</td>\n      <td>-0.355985</td>\n      <td>-0.107223</td>\n      <td>-0.505726</td>\n      <td>0.171859</td>\n      <td>-0.142593</td>\n      <td>0.136592</td>\n      <td>-0.004754</td>\n      <td>0.017493</td>\n      <td>-0.100276</td>\n      <td>0.000523</td>\n      <td>-0.051111</td>\n      <td>-0.010730</td>\n      <td>0.033355</td>\n      <td>-0.294075</td>\n      <td>-0.026589</td>\n      <td>-0.293967</td>\n      <td>0.000654</td>\n      <td>-0.356006</td>\n    </tr>\n    <tr>\n      <th>std</th>\n      <td>1.006266</td>\n      <td>1.852754</td>\n      <td>1.794632</td>\n      <td>3.038180</td>\n      <td>1.818525</td>\n      <td>3.801289</td>\n      <td>1.902182</td>\n      <td>1.845978</td>\n      <td>1.005285</td>\n      <td>1.005351</td>\n      <td>5.071869</td>\n      <td>1.959944</td>\n      <td>1.936157</td>\n      <td>2.068932</td>\n      <td>2.013369</td>\n      <td>1.970577</td>\n      <td>0.978275</td>\n      <td>1.970967</td>\n      <td>0.996563</td>\n      <td>1.794525</td>\n    </tr>\n    <tr>\n      <th>min</th>\n      <td>-4.181155</td>\n      <td>-6.980290</td>\n      <td>-7.563245</td>\n      <td>-13.133565</td>\n      <td>-9.011808</td>\n      <td>-15.887455</td>\n      <td>-7.934826</td>\n      <td>-8.608330</td>\n      <td>-3.472781</td>\n      <td>-3.697495</td>\n      <td>-19.416383</td>\n      <td>-7.212589</td>\n      <td>-8.133189</td>\n      <td>-7.823196</td>\n      <td>-8.969136</td>\n      <td>-7.037129</td>\n      <td>-3.621038</td>\n      <td>-7.037129</td>\n      <td>-4.013615</td>\n      <td>-7.563245</td>\n    </tr>\n    <tr>\n      <th>25%</th>\n      <td>-0.697289</td>\n      <td>-1.441506</td>\n      <td>-1.563905</td>\n      <td>-1.853387</td>\n      <td>-1.734750</td>\n      <td>-2.186274</td>\n      <td>-1.412976</td>\n      <td>-1.098820</td>\n      <td>-0.684826</td>\n      <td>-0.671742</td>\n      <td>-3.443353</td>\n      <td>-1.324990</td>\n      <td>-1.336281</td>\n      <td>-1.382711</td>\n      <td>-1.298096</td>\n      <td>-1.611778</td>\n      <td>-0.689233</td>\n      <td>-1.612217</td>\n      <td>-0.669329</td>\n      <td>-1.563380</td>\n    </tr>\n    <tr>\n      <th>50%</th>\n      <td>-0.028030</td>\n      <td>-0.261043</td>\n      <td>-0.374563</td>\n      <td>-0.021507</td>\n      <td>-0.511772</td>\n      <td>0.087551</td>\n      <td>-0.117258</td>\n      <td>0.146639</td>\n      <td>0.003925</td>\n      <td>0.028194</td>\n      <td>0.076018</td>\n      <td>-0.037385</td>\n      <td>-0.066816</td>\n      <td>-0.036499</td>\n      <td>-0.033036</td>\n      <td>-0.308584</td>\n      <td>-0.035249</td>\n      <td>-0.308293</td>\n      <td>-0.005563</td>\n      <td>-0.374563</td>\n    </tr>\n    <tr>\n      <th>75%</th>\n      <td>0.665953</td>\n      <td>0.944838</td>\n      <td>0.824602</td>\n      <td>1.757076</td>\n      <td>0.688574</td>\n      <td>2.445656</td>\n      <td>1.121624</td>\n      <td>1.411258</td>\n      <td>0.664399</td>\n      <td>0.704030</td>\n      <td>3.373809</td>\n      <td>1.285592</td>\n      <td>1.244561</td>\n      <td>1.365567</td>\n      <td>1.314574</td>\n      <td>1.021980</td>\n      <td>0.635102</td>\n      <td>1.022347</td>\n      <td>0.675878</td>\n      <td>0.824602</td>\n    </tr>\n    <tr>\n      <th>max</th>\n      <td>3.774161</td>\n      <td>7.155359</td>\n      <td>6.774458</td>\n      <td>10.975842</td>\n      <td>6.420768</td>\n      <td>17.343261</td>\n      <td>7.222491</td>\n      <td>6.664533</td>\n      <td>3.811616</td>\n      <td>3.391975</td>\n      <td>19.260556</td>\n      <td>7.181241</td>\n      <td>8.819808</td>\n      <td>7.970802</td>\n      <td>9.235606</td>\n      <td>9.415568</td>\n      <td>3.951352</td>\n      <td>9.415568</td>\n      <td>3.606960</td>\n      <td>6.774458</td>\n    </tr>\n  </tbody>\n</table>\n</div>"
     },
     "metadata": {},
     "execution_count": 11
    }
   ],
   "source": [
    "X_imputer.describe()"
   ]
  },
  {
   "cell_type": "markdown",
   "metadata": {},
   "source": [
    "## Dataset senza NaN --> Ora eliminare Outliers Multivariati"
   ]
  },
  {
   "cell_type": "code",
   "execution_count": 12,
   "metadata": {},
   "outputs": [
    {
     "output_type": "stream",
     "name": "stdout",
     "text": [
      "Nei_cluster, Fuori_Cluster --> Counter({0: 7861, -1: 139})\nNumero di outliersMultivariti trovati --> 139\nIndici degli Outliers:\n [   9   18  112  300  309  403  435  476  490  565  635  643  654  764\n  765  850  870  961  976 1005 1013 1037 1039 1229 1302 1304 1362 1363\n 1472 1517 1574 1586 1589 1592 1707 1776 1824 1841 1880 1935 2003 2035\n 2071 2116 2157 2391 2431 2433 2517 2542 2624 2674 2681 2696 2797 2857\n 2964 3007 3022 3066 3119 3207 3227 3404 3412 3417 3430 3622 3702 3910\n 3955 4005 4031 4111 4135 4147 4182 4242 4368 4383 4400 4485 4582 4650\n 4865 4893 4933 5062 5219 5307 5436 5445 5512 5552 5768 5790 5809 5925\n 5951 5967 6016 6023 6058 6113 6119 6206 6227 6243 6281 6358 6549 6560\n 6577 6665 6678 6714 6754 6808 6872 6879 6950 6975 7093 7105 7166 7184\n 7193 7304 7330 7357 7380 7451 7484 7625 7668 7730 7750 7889 7897]\n"
     ]
    }
   ],
   "source": [
    "Scanner = DBSCAN(eps=6.6, min_samples=10,n_jobs = -1).fit(X_imputer)\n",
    "print('Nei_cluster, Fuori_Cluster -->',Counter(Scanner.labels_))\n",
    "print('Numero di outliersMultivariti trovati -->', Scanner.labels_[Scanner.labels_ == -1] .size)\n",
    "Outliers = X_imputer[Scanner.labels_==-1].index.values\n",
    "print('Indici degli Outliers:\\n', Outliers)\n",
    "x_final = pd.DataFrame(X_imputer).drop(index = Outliers)\n",
    "y_final = y.drop(index = Outliers)\n"
   ]
  },
  {
   "cell_type": "markdown",
   "metadata": {},
   "source": [
    "## Ora Possiamo effettuare Split in Training set e Test Set"
   ]
  },
  {
   "cell_type": "code",
   "execution_count": 13,
   "metadata": {},
   "outputs": [
    {
     "output_type": "stream",
     "name": "stdout",
     "text": [
      "\nTraining set shape: (6288, 20) (6288, 1)\nTest set shape: (1573, 20) (1573, 1)\n"
     ]
    }
   ],
   "source": [
    "# Split in training-set e test-set.\n",
    "train_x, test_x, train_y, test_y = \\\n",
    "        model_select.train_test_split(x_final, y_final,\n",
    "                                      test_size=0.2,\n",
    "                                      random_state=42,\n",
    "                                      stratify=y_final)\n",
    "print('\\nTraining set shape:', train_x.shape, train_y.shape)\n",
    "print('Test set shape:', test_x.shape, test_y.shape)"
   ]
  },
  {
   "cell_type": "code",
   "execution_count": 14,
   "metadata": {},
   "outputs": [
    {
     "output_type": "stream",
     "name": "stdout",
     "text": [
      "170000\n8500\n"
     ]
    }
   ],
   "source": [
    "oversample = SMOTE()\n",
    "train_x, train_y = oversample.fit_resample(train_x, train_y)\n",
    "print(train_x.size)\n",
    "print(train_y.size)"
   ]
  },
  {
   "cell_type": "markdown",
   "metadata": {},
   "source": [
    "## Ora eseguiamo le Pipeline"
   ]
  },
  {
   "cell_type": "code",
   "execution_count": 15,
   "metadata": {},
   "outputs": [],
   "source": [
    "# Creiamo la classe che rimpiazza gli outliers che ci servira per pipeline e perchè KNN non rimpiazza direttamente gli outliers\n",
    "# ma i nan quindi bisogna anche ricreare il metodo fit e il trasform\n",
    "\n",
    "class KNNReplacerIQR(KNNImputer):\n",
    "    \"\"\"Pipeline-compliant KNNReplacer, based on IQR.\"\"\"\n",
    "\n",
    "    def __init__(self, n_neighbors=2):\n",
    "        super().__init__(n_neighbors=n_neighbors)\n",
    "        self.lower_bound = None\n",
    "        self.upper_bound = None\n",
    "        self.imputer = KNNImputer(n_neighbors=n_neighbors)\n",
    "\n",
    "    def fit(self, x, y=None):\n",
    "        \"\"\"Computes IQR bound and fits the imputer on the data.\"\"\"\n",
    "        x = pd.DataFrame(x)\n",
    "        q1 = x.quantile(0.25)\n",
    "        q3 = x.quantile(0.75)\n",
    "        iqr = q3 - q1\n",
    "        self.lower_bound = q1 - (1.5* iqr)\n",
    "        self.upper_bound = q3 + (1.5* iqr)\n",
    "        self.imputer.fit(\n",
    "            x.where(~((x < self.lower_bound) | (x > self.upper_bound)), np.nan)\n",
    "        )\n",
    "        return self\n",
    "\n",
    "    def transform(self, x, y=None):\n",
    "        \"\"\"Detects outliers and replaces them with the imputer.\"\"\"\n",
    "        x = pd.DataFrame(x)\n",
    "        x.where(~((x < self.lower_bound) | (x > self.upper_bound)),\n",
    "                np.nan,\n",
    "                inplace=True)\n",
    "        return self.imputer.transform(x)"
   ]
  },
  {
   "cell_type": "code",
   "execution_count": 16,
   "metadata": {},
   "outputs": [],
   "source": [
    "from sklearn.preprocessing import PolynomialFeatures"
   ]
  },
  {
   "cell_type": "code",
   "execution_count": 17,
   "metadata": {},
   "outputs": [],
   "source": [
    "# Pipeline Principale\n",
    "Pipe_Knn_Bagging = Pipeline([   ('replacer', KNNReplacerIQR()),\n",
    "                                ('pre-process-QDA',PolynomialFeatures(degree=3)),\n",
    "                                ('scaler',StandardScaler()),\n",
    "                                ('decomposition',PCA(random_state = 42)),\n",
    "                                ('feature_selection', SelectFromModel(LinearSVC(C=0.01, penalty=\"l1\", dual=False))),\n",
    "                                ('classifier',BaggingClassifier(\n",
    "                                                 base_estimator=QDA(reg_param = 0.001,store_covariance =True,tol = 0.001),\n",
    "                                                 n_jobs = -1,\n",
    "                                                 random_state = 42))\n",
    "                            ])"
   ]
  },
  {
   "cell_type": "code",
   "execution_count": 18,
   "metadata": {},
   "outputs": [],
   "source": [
    "grid_Pipe_Knn_Bagging = {'replacer__n_neighbors': [2]}"
   ]
  },
  {
   "cell_type": "code",
   "execution_count": 19,
   "metadata": {},
   "outputs": [],
   "source": [
    "gs_Bagging_knn = model_select.GridSearchCV( Pipe_Knn_Bagging ,\n",
    "                                               param_grid =  grid_Pipe_Knn_Bagging,\n",
    "                                               scoring='f1_macro',\n",
    "                                               cv=5,\n",
    "                                               refit=True,\n",
    "                                               n_jobs=-1)"
   ]
  },
  {
   "cell_type": "code",
   "execution_count": 20,
   "metadata": {},
   "outputs": [],
   "source": [
    "# Lista pipeline\n",
    "grids = [gs_Bagging_knn]\n",
    "#Dizionario delle pipeline\n",
    "grid_dict_pipe = {0:'BAGGING-KNN'}"
   ]
  },
  {
   "cell_type": "markdown",
   "metadata": {},
   "source": [
    "## Prova le Pipeline"
   ]
  },
  {
   "cell_type": "code",
   "execution_count": 21,
   "metadata": {},
   "outputs": [
    {
     "output_type": "stream",
     "name": "stdout",
     "text": [
      "\nMODEL OPTIMIZATIONS STARTED\nCurrently trying model: BAGGING-KNN\nGridSearchCV(cv=5,\n             estimator=Pipeline(steps=[('replacer', KNNReplacerIQR()),\n                                       ('pre-process-QDA',\n                                        PolynomialFeatures(degree=3)),\n                                       ('scaler', StandardScaler()),\n                                       ('decomposition', PCA(random_state=42)),\n                                       ('feature_selection',\n                                        SelectFromModel(estimator=LinearSVC(C=0.01,\n                                                                            dual=False,\n                                                                            penalty='l1'))),\n                                       ('classifier',\n                                        BaggingClassifier(base_estimator=QuadraticDiscriminantAnalysis(reg_param=0.001,\n                                                                                                       store_covariance=True,\n                                                                                                       tol=0.001),\n                                                          n_jobs=-1,\n                                                          random_state=42))]),\n             n_jobs=-1, param_grid={'replacer__n_neighbors': [2]},\n             scoring='f1_macro')\n"
     ]
    },
    {
     "output_type": "error",
     "ename": "TerminatedWorkerError",
     "evalue": "A worker process managed by the executor was unexpectedly terminated. This could be caused by a segmentation fault while calling the function or by an excessive memory usage causing the Operating System to kill the worker.\n",
     "traceback": [
      "\u001b[1;31m---------------------------------------------------------------------------\u001b[0m",
      "\u001b[1;31mTerminatedWorkerError\u001b[0m                     Traceback (most recent call last)",
      "\u001b[1;32m<ipython-input-21-f7b18283ce62>\u001b[0m in \u001b[0;36m<module>\u001b[1;34m\u001b[0m\n\u001b[0;32m      9\u001b[0m \u001b[1;33m\u001b[0m\u001b[0m\n\u001b[0;32m     10\u001b[0m     \u001b[1;31m# Perform grid search.\u001b[0m\u001b[1;33m\u001b[0m\u001b[1;33m\u001b[0m\u001b[1;33m\u001b[0m\u001b[0m\n\u001b[1;32m---> 11\u001b[1;33m     \u001b[0mpipe_gs\u001b[0m\u001b[1;33m.\u001b[0m\u001b[0mfit\u001b[0m\u001b[1;33m(\u001b[0m\u001b[0mtrain_x\u001b[0m\u001b[1;33m,\u001b[0m \u001b[0mtrain_y\u001b[0m\u001b[1;33m[\u001b[0m\u001b[0mtarget\u001b[0m\u001b[1;33m]\u001b[0m\u001b[1;33m)\u001b[0m\u001b[1;33m\u001b[0m\u001b[1;33m\u001b[0m\u001b[0m\n\u001b[0m\u001b[0;32m     12\u001b[0m \u001b[1;33m\u001b[0m\u001b[0m\n\u001b[0;32m     13\u001b[0m     \u001b[1;31m# Dump detailed scores on a file.\u001b[0m\u001b[1;33m\u001b[0m\u001b[1;33m\u001b[0m\u001b[1;33m\u001b[0m\u001b[0m\n",
      "\u001b[1;32m~\\anaconda3\\lib\\site-packages\\sklearn\\utils\\validation.py\u001b[0m in \u001b[0;36minner_f\u001b[1;34m(*args, **kwargs)\u001b[0m\n\u001b[0;32m     61\u001b[0m             \u001b[0mextra_args\u001b[0m \u001b[1;33m=\u001b[0m \u001b[0mlen\u001b[0m\u001b[1;33m(\u001b[0m\u001b[0margs\u001b[0m\u001b[1;33m)\u001b[0m \u001b[1;33m-\u001b[0m \u001b[0mlen\u001b[0m\u001b[1;33m(\u001b[0m\u001b[0mall_args\u001b[0m\u001b[1;33m)\u001b[0m\u001b[1;33m\u001b[0m\u001b[1;33m\u001b[0m\u001b[0m\n\u001b[0;32m     62\u001b[0m             \u001b[1;32mif\u001b[0m \u001b[0mextra_args\u001b[0m \u001b[1;33m<=\u001b[0m \u001b[1;36m0\u001b[0m\u001b[1;33m:\u001b[0m\u001b[1;33m\u001b[0m\u001b[1;33m\u001b[0m\u001b[0m\n\u001b[1;32m---> 63\u001b[1;33m                 \u001b[1;32mreturn\u001b[0m \u001b[0mf\u001b[0m\u001b[1;33m(\u001b[0m\u001b[1;33m*\u001b[0m\u001b[0margs\u001b[0m\u001b[1;33m,\u001b[0m \u001b[1;33m**\u001b[0m\u001b[0mkwargs\u001b[0m\u001b[1;33m)\u001b[0m\u001b[1;33m\u001b[0m\u001b[1;33m\u001b[0m\u001b[0m\n\u001b[0m\u001b[0;32m     64\u001b[0m \u001b[1;33m\u001b[0m\u001b[0m\n\u001b[0;32m     65\u001b[0m             \u001b[1;31m# extra_args > 0\u001b[0m\u001b[1;33m\u001b[0m\u001b[1;33m\u001b[0m\u001b[1;33m\u001b[0m\u001b[0m\n",
      "\u001b[1;32m~\\anaconda3\\lib\\site-packages\\sklearn\\model_selection\\_search.py\u001b[0m in \u001b[0;36mfit\u001b[1;34m(self, X, y, groups, **fit_params)\u001b[0m\n\u001b[0;32m    839\u001b[0m                 \u001b[1;32mreturn\u001b[0m \u001b[0mresults\u001b[0m\u001b[1;33m\u001b[0m\u001b[1;33m\u001b[0m\u001b[0m\n\u001b[0;32m    840\u001b[0m \u001b[1;33m\u001b[0m\u001b[0m\n\u001b[1;32m--> 841\u001b[1;33m             \u001b[0mself\u001b[0m\u001b[1;33m.\u001b[0m\u001b[0m_run_search\u001b[0m\u001b[1;33m(\u001b[0m\u001b[0mevaluate_candidates\u001b[0m\u001b[1;33m)\u001b[0m\u001b[1;33m\u001b[0m\u001b[1;33m\u001b[0m\u001b[0m\n\u001b[0m\u001b[0;32m    842\u001b[0m \u001b[1;33m\u001b[0m\u001b[0m\n\u001b[0;32m    843\u001b[0m             \u001b[1;31m# multimetric is determined here because in the case of a callable\u001b[0m\u001b[1;33m\u001b[0m\u001b[1;33m\u001b[0m\u001b[1;33m\u001b[0m\u001b[0m\n",
      "\u001b[1;32m~\\anaconda3\\lib\\site-packages\\sklearn\\model_selection\\_search.py\u001b[0m in \u001b[0;36m_run_search\u001b[1;34m(self, evaluate_candidates)\u001b[0m\n\u001b[0;32m   1286\u001b[0m     \u001b[1;32mdef\u001b[0m \u001b[0m_run_search\u001b[0m\u001b[1;33m(\u001b[0m\u001b[0mself\u001b[0m\u001b[1;33m,\u001b[0m \u001b[0mevaluate_candidates\u001b[0m\u001b[1;33m)\u001b[0m\u001b[1;33m:\u001b[0m\u001b[1;33m\u001b[0m\u001b[1;33m\u001b[0m\u001b[0m\n\u001b[0;32m   1287\u001b[0m         \u001b[1;34m\"\"\"Search all candidates in param_grid\"\"\"\u001b[0m\u001b[1;33m\u001b[0m\u001b[1;33m\u001b[0m\u001b[0m\n\u001b[1;32m-> 1288\u001b[1;33m         \u001b[0mevaluate_candidates\u001b[0m\u001b[1;33m(\u001b[0m\u001b[0mParameterGrid\u001b[0m\u001b[1;33m(\u001b[0m\u001b[0mself\u001b[0m\u001b[1;33m.\u001b[0m\u001b[0mparam_grid\u001b[0m\u001b[1;33m)\u001b[0m\u001b[1;33m)\u001b[0m\u001b[1;33m\u001b[0m\u001b[1;33m\u001b[0m\u001b[0m\n\u001b[0m\u001b[0;32m   1289\u001b[0m \u001b[1;33m\u001b[0m\u001b[0m\n\u001b[0;32m   1290\u001b[0m \u001b[1;33m\u001b[0m\u001b[0m\n",
      "\u001b[1;32m~\\anaconda3\\lib\\site-packages\\sklearn\\model_selection\\_search.py\u001b[0m in \u001b[0;36mevaluate_candidates\u001b[1;34m(candidate_params, cv, more_results)\u001b[0m\n\u001b[0;32m    793\u001b[0m                               n_splits, n_candidates, n_candidates * n_splits))\n\u001b[0;32m    794\u001b[0m \u001b[1;33m\u001b[0m\u001b[0m\n\u001b[1;32m--> 795\u001b[1;33m                 out = parallel(delayed(_fit_and_score)(clone(base_estimator),\n\u001b[0m\u001b[0;32m    796\u001b[0m                                                        \u001b[0mX\u001b[0m\u001b[1;33m,\u001b[0m \u001b[0my\u001b[0m\u001b[1;33m,\u001b[0m\u001b[1;33m\u001b[0m\u001b[1;33m\u001b[0m\u001b[0m\n\u001b[0;32m    797\u001b[0m                                                        \u001b[0mtrain\u001b[0m\u001b[1;33m=\u001b[0m\u001b[0mtrain\u001b[0m\u001b[1;33m,\u001b[0m \u001b[0mtest\u001b[0m\u001b[1;33m=\u001b[0m\u001b[0mtest\u001b[0m\u001b[1;33m,\u001b[0m\u001b[1;33m\u001b[0m\u001b[1;33m\u001b[0m\u001b[0m\n",
      "\u001b[1;32m~\\anaconda3\\lib\\site-packages\\joblib\\parallel.py\u001b[0m in \u001b[0;36m__call__\u001b[1;34m(self, iterable)\u001b[0m\n\u001b[0;32m   1052\u001b[0m \u001b[1;33m\u001b[0m\u001b[0m\n\u001b[0;32m   1053\u001b[0m             \u001b[1;32mwith\u001b[0m \u001b[0mself\u001b[0m\u001b[1;33m.\u001b[0m\u001b[0m_backend\u001b[0m\u001b[1;33m.\u001b[0m\u001b[0mretrieval_context\u001b[0m\u001b[1;33m(\u001b[0m\u001b[1;33m)\u001b[0m\u001b[1;33m:\u001b[0m\u001b[1;33m\u001b[0m\u001b[1;33m\u001b[0m\u001b[0m\n\u001b[1;32m-> 1054\u001b[1;33m                 \u001b[0mself\u001b[0m\u001b[1;33m.\u001b[0m\u001b[0mretrieve\u001b[0m\u001b[1;33m(\u001b[0m\u001b[1;33m)\u001b[0m\u001b[1;33m\u001b[0m\u001b[1;33m\u001b[0m\u001b[0m\n\u001b[0m\u001b[0;32m   1055\u001b[0m             \u001b[1;31m# Make sure that we get a last message telling us we are done\u001b[0m\u001b[1;33m\u001b[0m\u001b[1;33m\u001b[0m\u001b[1;33m\u001b[0m\u001b[0m\n\u001b[0;32m   1056\u001b[0m             \u001b[0melapsed_time\u001b[0m \u001b[1;33m=\u001b[0m \u001b[0mtime\u001b[0m\u001b[1;33m.\u001b[0m\u001b[0mtime\u001b[0m\u001b[1;33m(\u001b[0m\u001b[1;33m)\u001b[0m \u001b[1;33m-\u001b[0m \u001b[0mself\u001b[0m\u001b[1;33m.\u001b[0m\u001b[0m_start_time\u001b[0m\u001b[1;33m\u001b[0m\u001b[1;33m\u001b[0m\u001b[0m\n",
      "\u001b[1;32m~\\anaconda3\\lib\\site-packages\\joblib\\parallel.py\u001b[0m in \u001b[0;36mretrieve\u001b[1;34m(self)\u001b[0m\n\u001b[0;32m    931\u001b[0m             \u001b[1;32mtry\u001b[0m\u001b[1;33m:\u001b[0m\u001b[1;33m\u001b[0m\u001b[1;33m\u001b[0m\u001b[0m\n\u001b[0;32m    932\u001b[0m                 \u001b[1;32mif\u001b[0m \u001b[0mgetattr\u001b[0m\u001b[1;33m(\u001b[0m\u001b[0mself\u001b[0m\u001b[1;33m.\u001b[0m\u001b[0m_backend\u001b[0m\u001b[1;33m,\u001b[0m \u001b[1;34m'supports_timeout'\u001b[0m\u001b[1;33m,\u001b[0m \u001b[1;32mFalse\u001b[0m\u001b[1;33m)\u001b[0m\u001b[1;33m:\u001b[0m\u001b[1;33m\u001b[0m\u001b[1;33m\u001b[0m\u001b[0m\n\u001b[1;32m--> 933\u001b[1;33m                     \u001b[0mself\u001b[0m\u001b[1;33m.\u001b[0m\u001b[0m_output\u001b[0m\u001b[1;33m.\u001b[0m\u001b[0mextend\u001b[0m\u001b[1;33m(\u001b[0m\u001b[0mjob\u001b[0m\u001b[1;33m.\u001b[0m\u001b[0mget\u001b[0m\u001b[1;33m(\u001b[0m\u001b[0mtimeout\u001b[0m\u001b[1;33m=\u001b[0m\u001b[0mself\u001b[0m\u001b[1;33m.\u001b[0m\u001b[0mtimeout\u001b[0m\u001b[1;33m)\u001b[0m\u001b[1;33m)\u001b[0m\u001b[1;33m\u001b[0m\u001b[1;33m\u001b[0m\u001b[0m\n\u001b[0m\u001b[0;32m    934\u001b[0m                 \u001b[1;32melse\u001b[0m\u001b[1;33m:\u001b[0m\u001b[1;33m\u001b[0m\u001b[1;33m\u001b[0m\u001b[0m\n\u001b[0;32m    935\u001b[0m                     \u001b[0mself\u001b[0m\u001b[1;33m.\u001b[0m\u001b[0m_output\u001b[0m\u001b[1;33m.\u001b[0m\u001b[0mextend\u001b[0m\u001b[1;33m(\u001b[0m\u001b[0mjob\u001b[0m\u001b[1;33m.\u001b[0m\u001b[0mget\u001b[0m\u001b[1;33m(\u001b[0m\u001b[1;33m)\u001b[0m\u001b[1;33m)\u001b[0m\u001b[1;33m\u001b[0m\u001b[1;33m\u001b[0m\u001b[0m\n",
      "\u001b[1;32m~\\anaconda3\\lib\\site-packages\\joblib\\_parallel_backends.py\u001b[0m in \u001b[0;36mwrap_future_result\u001b[1;34m(future, timeout)\u001b[0m\n\u001b[0;32m    540\u001b[0m         AsyncResults.get from multiprocessing.\"\"\"\n\u001b[0;32m    541\u001b[0m         \u001b[1;32mtry\u001b[0m\u001b[1;33m:\u001b[0m\u001b[1;33m\u001b[0m\u001b[1;33m\u001b[0m\u001b[0m\n\u001b[1;32m--> 542\u001b[1;33m             \u001b[1;32mreturn\u001b[0m \u001b[0mfuture\u001b[0m\u001b[1;33m.\u001b[0m\u001b[0mresult\u001b[0m\u001b[1;33m(\u001b[0m\u001b[0mtimeout\u001b[0m\u001b[1;33m=\u001b[0m\u001b[0mtimeout\u001b[0m\u001b[1;33m)\u001b[0m\u001b[1;33m\u001b[0m\u001b[1;33m\u001b[0m\u001b[0m\n\u001b[0m\u001b[0;32m    543\u001b[0m         \u001b[1;32mexcept\u001b[0m \u001b[0mCfTimeoutError\u001b[0m \u001b[1;32mas\u001b[0m \u001b[0me\u001b[0m\u001b[1;33m:\u001b[0m\u001b[1;33m\u001b[0m\u001b[1;33m\u001b[0m\u001b[0m\n\u001b[0;32m    544\u001b[0m             \u001b[1;32mraise\u001b[0m \u001b[0mTimeoutError\u001b[0m \u001b[1;32mfrom\u001b[0m \u001b[0me\u001b[0m\u001b[1;33m\u001b[0m\u001b[1;33m\u001b[0m\u001b[0m\n",
      "\u001b[1;32m~\\anaconda3\\lib\\concurrent\\futures\\_base.py\u001b[0m in \u001b[0;36mresult\u001b[1;34m(self, timeout)\u001b[0m\n\u001b[0;32m    437\u001b[0m                 \u001b[1;32mraise\u001b[0m \u001b[0mCancelledError\u001b[0m\u001b[1;33m(\u001b[0m\u001b[1;33m)\u001b[0m\u001b[1;33m\u001b[0m\u001b[1;33m\u001b[0m\u001b[0m\n\u001b[0;32m    438\u001b[0m             \u001b[1;32melif\u001b[0m \u001b[0mself\u001b[0m\u001b[1;33m.\u001b[0m\u001b[0m_state\u001b[0m \u001b[1;33m==\u001b[0m \u001b[0mFINISHED\u001b[0m\u001b[1;33m:\u001b[0m\u001b[1;33m\u001b[0m\u001b[1;33m\u001b[0m\u001b[0m\n\u001b[1;32m--> 439\u001b[1;33m                 \u001b[1;32mreturn\u001b[0m \u001b[0mself\u001b[0m\u001b[1;33m.\u001b[0m\u001b[0m__get_result\u001b[0m\u001b[1;33m(\u001b[0m\u001b[1;33m)\u001b[0m\u001b[1;33m\u001b[0m\u001b[1;33m\u001b[0m\u001b[0m\n\u001b[0m\u001b[0;32m    440\u001b[0m             \u001b[1;32melse\u001b[0m\u001b[1;33m:\u001b[0m\u001b[1;33m\u001b[0m\u001b[1;33m\u001b[0m\u001b[0m\n\u001b[0;32m    441\u001b[0m                 \u001b[1;32mraise\u001b[0m \u001b[0mTimeoutError\u001b[0m\u001b[1;33m(\u001b[0m\u001b[1;33m)\u001b[0m\u001b[1;33m\u001b[0m\u001b[1;33m\u001b[0m\u001b[0m\n",
      "\u001b[1;32m~\\anaconda3\\lib\\concurrent\\futures\\_base.py\u001b[0m in \u001b[0;36m__get_result\u001b[1;34m(self)\u001b[0m\n\u001b[0;32m    386\u001b[0m     \u001b[1;32mdef\u001b[0m \u001b[0m__get_result\u001b[0m\u001b[1;33m(\u001b[0m\u001b[0mself\u001b[0m\u001b[1;33m)\u001b[0m\u001b[1;33m:\u001b[0m\u001b[1;33m\u001b[0m\u001b[1;33m\u001b[0m\u001b[0m\n\u001b[0;32m    387\u001b[0m         \u001b[1;32mif\u001b[0m \u001b[0mself\u001b[0m\u001b[1;33m.\u001b[0m\u001b[0m_exception\u001b[0m\u001b[1;33m:\u001b[0m\u001b[1;33m\u001b[0m\u001b[1;33m\u001b[0m\u001b[0m\n\u001b[1;32m--> 388\u001b[1;33m             \u001b[1;32mraise\u001b[0m \u001b[0mself\u001b[0m\u001b[1;33m.\u001b[0m\u001b[0m_exception\u001b[0m\u001b[1;33m\u001b[0m\u001b[1;33m\u001b[0m\u001b[0m\n\u001b[0m\u001b[0;32m    389\u001b[0m         \u001b[1;32melse\u001b[0m\u001b[1;33m:\u001b[0m\u001b[1;33m\u001b[0m\u001b[1;33m\u001b[0m\u001b[0m\n\u001b[0;32m    390\u001b[0m             \u001b[1;32mreturn\u001b[0m \u001b[0mself\u001b[0m\u001b[1;33m.\u001b[0m\u001b[0m_result\u001b[0m\u001b[1;33m\u001b[0m\u001b[1;33m\u001b[0m\u001b[0m\n",
      "\u001b[1;31mTerminatedWorkerError\u001b[0m: A worker process managed by the executor was unexpectedly terminated. This could be caused by a segmentation fault while calling the function or by an excessive memory usage causing the Operating System to kill the worker.\n"
     ]
    }
   ],
   "source": [
    "# Fit the grid search objects and look for the best model.\n",
    "print(\"\\nMODEL OPTIMIZATIONS STARTED\")\n",
    "best_f1 = 0.0\n",
    "best_idx = 0\n",
    "best_pipe = None\n",
    "for idx, pipe_gs in enumerate(grids):\n",
    "    print('Currently trying model: %s' % grid_dict_pipe[idx])\n",
    "    print(pipe_gs)\n",
    "\n",
    "    # Perform grid search.\n",
    "    pipe_gs.fit(train_x, train_y[target])\n",
    "\n",
    "    # Dump detailed scores on a file.\n",
    "    results_file = open(grid_dict_pipe[idx] + '_results.txt', 'w')\n",
    "\n",
    "    # Print scores and update bests.\n",
    "    print(\"\\nGrid scores:\")\n",
    "    means = pipe_gs.cv_results_['mean_test_score']\n",
    "    stds = pipe_gs.cv_results_['std_test_score']\n",
    "    for mean, std, params in zip(means, stds,\n",
    "                                 pipe_gs.cv_results_['params']):\n",
    "        print(\"%0.4f (+/-%0.03f) for %r\" % (mean, std * 2, params))\n",
    "        results_file.write(\"%0.4f (+/-%0.03f) for %r\\n\"\n",
    "                           % (mean, std * 2, params))\n",
    "    print(\"\\nBest parameters:\")\n",
    "    print(pipe_gs.best_params_)\n",
    "    print(\"\\nBest score: %0.4f\" % pipe_gs.best_score_)\n",
    "    if pipe_gs.best_score_ > best_f1:\n",
    "        best_f1 = pipe_gs.best_score_\n",
    "        best_idx = idx\n",
    "        best_pipe = pipe_gs.best_estimator_\n",
    "    results_file.write(\"\\nBest parameters:\\n%r\\n\" % pipe_gs.best_params_)\n",
    "    results_file.write(\"\\nBest score: %0.4f\\n\" % pipe_gs.best_score_)\n",
    "\n",
    "    results_file.close()"
   ]
  },
  {
   "cell_type": "code",
   "execution_count": 25,
   "metadata": {},
   "outputs": [
    {
     "output_type": "stream",
     "name": "stdout",
     "text": [
      "\nPipeline with best training set F1 macro score: BAGGING-KNN\n"
     ]
    }
   ],
   "source": [
    "print('\\nPipeline with best training set F1 macro score: %s'\n",
    "          % grid_dict_pipe[best_idx])"
   ]
  },
  {
   "cell_type": "code",
   "execution_count": null,
   "metadata": {},
   "outputs": [],
   "source": []
  },
  {
   "cell_type": "code",
   "execution_count": 26,
   "metadata": {},
   "outputs": [],
   "source": [
    "def show_confusion_matrix(cm, f1_score, title):\n",
    "    \"\"\"Displays confusion matrix with annotations.\"\"\"\n",
    "    # Create annotations label.\n",
    "    group_counts = [\"{0:0.0f}\\n\".format(value) for value in cm.flatten()]\n",
    "    group_percentages =\\\n",
    "        [\"{0:.2%}\".format(value) for value in cm.flatten() / np.sum(cm)]\n",
    "    box_labels =\\\n",
    "        [f\"{v1}{v2}\".strip() for v1, v2 in zip(group_counts, group_percentages)]\n",
    "    box_labels = np.asarray(box_labels).reshape(cm.shape[0], cm.shape[1])\n",
    "    # Show confusion matrix with heat map.\n",
    "    sns.heatmap(cm,\n",
    "                annot=box_labels,\n",
    "                fmt=\"\",\n",
    "                cmap=\"YlGnBu\",\n",
    "                cbar=False,\n",
    "                linewidths=1.0)\\\n",
    "        .set(title=title,\n",
    "             xlabel='Predicted class\\n\\nF1 macro: %0.4f' % f1_score,\n",
    "             ylabel='Actual class')\n",
    "    plt.show()"
   ]
  },
  {
   "cell_type": "code",
   "execution_count": 27,
   "metadata": {},
   "outputs": [],
   "source": [
    "def evaluate_classifier(classifier, data_x, data_y, matrix_title='', show=True):\n",
    "    \"\"\"Preprocesses test set and evaluates classifiers.\"\"\"\n",
    "    pred_y = classifier.predict(data_x)\n",
    "    confusion_matrix = metrics.confusion_matrix(data_y, pred_y)\n",
    "    f1_score = metrics.f1_score(data_y, pred_y, average='macro')\n",
    "    if show:\n",
    "        show_confusion_matrix(confusion_matrix, f1_score, matrix_title)\n",
    "    return f1_score"
   ]
  },
  {
   "cell_type": "code",
   "execution_count": 28,
   "metadata": {},
   "outputs": [
    {
     "output_type": "error",
     "ename": "AttributeError",
     "evalue": "'NoneType' object has no attribute 'predict'",
     "traceback": [
      "\u001b[1;31m---------------------------------------------------------------------------\u001b[0m",
      "\u001b[1;31mAttributeError\u001b[0m                            Traceback (most recent call last)",
      "\u001b[1;32m<ipython-input-28-57e5226ac3e3>\u001b[0m in \u001b[0;36m<module>\u001b[1;34m\u001b[0m\n\u001b[0;32m      1\u001b[0m \u001b[1;31m# Evaluates the pipeline on the test set.\u001b[0m\u001b[1;33m\u001b[0m\u001b[1;33m\u001b[0m\u001b[1;33m\u001b[0m\u001b[0m\n\u001b[0;32m      2\u001b[0m print('\\nTest set F1 macro: %0.4f'\n\u001b[1;32m----> 3\u001b[1;33m           % evaluate_classifier(best_pipe,\n\u001b[0m\u001b[0;32m      4\u001b[0m                                 \u001b[0mtest_x\u001b[0m\u001b[1;33m,\u001b[0m\u001b[1;33m\u001b[0m\u001b[1;33m\u001b[0m\u001b[0m\n\u001b[0;32m      5\u001b[0m                                 \u001b[0mtest_y\u001b[0m\u001b[1;33m[\u001b[0m\u001b[0mtarget\u001b[0m\u001b[1;33m]\u001b[0m\u001b[1;33m,\u001b[0m\u001b[1;33m\u001b[0m\u001b[1;33m\u001b[0m\u001b[0m\n",
      "\u001b[1;32m<ipython-input-27-0b5a5fa29e42>\u001b[0m in \u001b[0;36mevaluate_classifier\u001b[1;34m(classifier, data_x, data_y, matrix_title, show)\u001b[0m\n\u001b[0;32m      1\u001b[0m \u001b[1;32mdef\u001b[0m \u001b[0mevaluate_classifier\u001b[0m\u001b[1;33m(\u001b[0m\u001b[0mclassifier\u001b[0m\u001b[1;33m,\u001b[0m \u001b[0mdata_x\u001b[0m\u001b[1;33m,\u001b[0m \u001b[0mdata_y\u001b[0m\u001b[1;33m,\u001b[0m \u001b[0mmatrix_title\u001b[0m\u001b[1;33m=\u001b[0m\u001b[1;34m''\u001b[0m\u001b[1;33m,\u001b[0m \u001b[0mshow\u001b[0m\u001b[1;33m=\u001b[0m\u001b[1;32mTrue\u001b[0m\u001b[1;33m)\u001b[0m\u001b[1;33m:\u001b[0m\u001b[1;33m\u001b[0m\u001b[1;33m\u001b[0m\u001b[0m\n\u001b[0;32m      2\u001b[0m     \u001b[1;34m\"\"\"Preprocesses test set and evaluates classifiers.\"\"\"\u001b[0m\u001b[1;33m\u001b[0m\u001b[1;33m\u001b[0m\u001b[0m\n\u001b[1;32m----> 3\u001b[1;33m     \u001b[0mpred_y\u001b[0m \u001b[1;33m=\u001b[0m \u001b[0mclassifier\u001b[0m\u001b[1;33m.\u001b[0m\u001b[0mpredict\u001b[0m\u001b[1;33m(\u001b[0m\u001b[0mdata_x\u001b[0m\u001b[1;33m)\u001b[0m\u001b[1;33m\u001b[0m\u001b[1;33m\u001b[0m\u001b[0m\n\u001b[0m\u001b[0;32m      4\u001b[0m     \u001b[0mconfusion_matrix\u001b[0m \u001b[1;33m=\u001b[0m \u001b[0mmetrics\u001b[0m\u001b[1;33m.\u001b[0m\u001b[0mconfusion_matrix\u001b[0m\u001b[1;33m(\u001b[0m\u001b[0mdata_y\u001b[0m\u001b[1;33m,\u001b[0m \u001b[0mpred_y\u001b[0m\u001b[1;33m)\u001b[0m\u001b[1;33m\u001b[0m\u001b[1;33m\u001b[0m\u001b[0m\n\u001b[0;32m      5\u001b[0m     \u001b[0mf1_score\u001b[0m \u001b[1;33m=\u001b[0m \u001b[0mmetrics\u001b[0m\u001b[1;33m.\u001b[0m\u001b[0mf1_score\u001b[0m\u001b[1;33m(\u001b[0m\u001b[0mdata_y\u001b[0m\u001b[1;33m,\u001b[0m \u001b[0mpred_y\u001b[0m\u001b[1;33m,\u001b[0m \u001b[0maverage\u001b[0m\u001b[1;33m=\u001b[0m\u001b[1;34m'macro'\u001b[0m\u001b[1;33m)\u001b[0m\u001b[1;33m\u001b[0m\u001b[1;33m\u001b[0m\u001b[0m\n",
      "\u001b[1;31mAttributeError\u001b[0m: 'NoneType' object has no attribute 'predict'"
     ]
    }
   ],
   "source": [
    "# Evaluates the pipeline on the test set.\n",
    "print('\\nTest set F1 macro: %0.4f'\n",
    "          % evaluate_classifier(best_pipe,\n",
    "                                test_x,\n",
    "                                test_y[target],\n",
    "                                'Test Set Confusion matrix'))"
   ]
  },
  {
   "cell_type": "code",
   "execution_count": 83,
   "metadata": {},
   "outputs": [
    {
     "name": "stdout",
     "output_type": "stream",
     "text": [
      "\n",
      "RE-FITTING BEST PIPELINE ON WHOLE DATASET\n"
     ]
    },
    {
     "data": {
      "image/png": "[encoded data removed]",
      "text/plain": [
       "<Figure size 432x288 with 1 Axes>"
      ]
     },
     "metadata": {
      "needs_background": "light"
     },
     "output_type": "display_data"
    },
    {
     "name": "stdout",
     "output_type": "stream",
     "text": [
      "\n",
      "(Pre-save) Dataset F1 macro: 0.9296\n"
     ]
    }
   ],
   "source": [
    "# Refit the best pipeline on the whole dataset.\n",
    "print(\"\\nRE-FITTING BEST PIPELINE ON WHOLE DATASET\")\n",
    "best_pipe = best_pipe.fit(x, y[target])\n",
    "print('\\n(Pre-save) Dataset F1 macro: %0.4f'\n",
    "          % evaluate_classifier(best_pipe,\n",
    "                                x,\n",
    "                                y[target],\n",
    "                                'Dataset Confusion matrix'))"
   ]
  },
  {
   "cell_type": "code",
   "execution_count": 88,
   "metadata": {},
   "outputs": [],
   "source": [
    "# Serialize and dump the best model.\n",
    "pipeline_path = 'best_pipeline5.sav'\n",
    "with open(pipeline_path, 'wb') as model_file:\n",
    "        pickle.dump(best_pipe, model_file)"
   ]
  },
  {
   "cell_type": "code",
   "execution_count": 85,
   "metadata": {},
   "outputs": [
    {
     "name": "stdout",
     "output_type": "stream",
     "text": [
      "\n",
      "(Post-save) Dataset F1 macro: 0.9296\n"
     ]
    }
   ],
   "source": [
    "# Reload best model and check if the save went well.\n",
    "with open(pipeline_path, 'rb') as model_file:\n",
    "        model = pickle.load(model_file)\n",
    "print('\\n(Post-save) Dataset F1 macro: %0.4f'\n",
    "          % evaluate_classifier(model,\n",
    "                                x,\n",
    "                                y[target],\n",
    "                                show=False))"
   ]
  },
  {
   "cell_type": "code",
   "execution_count": null,
   "metadata": {},
   "outputs": [],
   "source": []
  },
  {
   "cell_type": "code",
   "execution_count": null,
   "metadata": {},
   "outputs": [],
   "source": []
  }
 ],
 "metadata": {
  "kernelspec": {
   "name": "python388jvsc74a57bd0acd1c3ec51609f20a53a03da2acccc45a09f37cc8f609eca0fec515a53fdbe1a",
   "display_name": "Python 3.8.8 64-bit ('base': conda)"
  },
  "language_info": {
   "codemirror_mode": {
    "name": "ipython",
    "version": 3
   },
   "file_extension": ".py",
   "mimetype": "text/x-python",
   "name": "python",
   "nbconvert_exporter": "python",
   "pygments_lexer": "ipython3",
   "version": "3.8.8"
  }
 },
 "nbformat": 4,
 "nbformat_minor": 4
}