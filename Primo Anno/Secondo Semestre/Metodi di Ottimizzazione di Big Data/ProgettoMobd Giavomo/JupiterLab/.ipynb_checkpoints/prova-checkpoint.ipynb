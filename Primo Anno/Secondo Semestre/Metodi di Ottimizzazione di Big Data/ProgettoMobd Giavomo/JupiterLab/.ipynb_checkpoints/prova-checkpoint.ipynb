{
 "cells": [
  {
   "cell_type": "markdown",
   "metadata": {},
   "source": [
    "# Prove Progetto"
   ]
  },
  {
   "cell_type": "markdown",
   "metadata": {},
   "source": [
    "## Import Pacchetti"
   ]
  },
  {
   "cell_type": "code",
   "execution_count": 6,
   "metadata": {},
   "outputs": [],
   "source": [
    "import pandas as pd\n",
    "import numpy as np\n",
    "import seaborn as sns\n",
    "import matplotlib.pyplot as plt\n",
    "import sklearn\n",
    "import sklearn.model_selection as model_select\n",
    "import sklearn.metrics as metrics\n",
    "from sklearn.pipeline import Pipeline\n",
    "from sklearn.preprocessing import StandardScaler\n",
    "from sklearn.impute import KNNImputer\n",
    "from sklearn.svm import SVC\n",
    "from sklearn.decomposition import PCA\n",
    "import pickle\n",
    "\n",
    "from sklearn.discriminant_analysis import QuadraticDiscriminantAnalysis"
   ]
  },
  {
   "cell_type": "markdown",
   "metadata": {},
   "source": [
    "### Importa Dataset"
   ]
  },
  {
   "cell_type": "code",
   "execution_count": 7,
   "metadata": {},
   "outputs": [
    {
     "data": {
      "text/html": [
       "<div>\n",
       "<style scoped>\n",
       "    .dataframe tbody tr th:only-of-type {\n",
       "        vertical-align: middle;\n",
       "    }\n",
       "\n",
       "    .dataframe tbody tr th {\n",
       "        vertical-align: top;\n",
       "    }\n",
       "\n",
       "    .dataframe thead th {\n",
       "        text-align: right;\n",
       "    }\n",
       "</style>\n",
       "<table border=\"1\" class=\"dataframe\">\n",
       "  <thead>\n",
       "    <tr style=\"text-align: right;\">\n",
       "      <th></th>\n",
       "      <th>F1</th>\n",
       "      <th>F2</th>\n",
       "      <th>F3</th>\n",
       "      <th>F4</th>\n",
       "      <th>F5</th>\n",
       "      <th>F6</th>\n",
       "      <th>F7</th>\n",
       "      <th>F8</th>\n",
       "      <th>F9</th>\n",
       "      <th>F10</th>\n",
       "      <th>...</th>\n",
       "      <th>F12</th>\n",
       "      <th>F13</th>\n",
       "      <th>F14</th>\n",
       "      <th>F15</th>\n",
       "      <th>F16</th>\n",
       "      <th>F17</th>\n",
       "      <th>F18</th>\n",
       "      <th>F19</th>\n",
       "      <th>F20</th>\n",
       "      <th>CLASS</th>\n",
       "    </tr>\n",
       "  </thead>\n",
       "  <tbody>\n",
       "    <tr>\n",
       "      <th>0</th>\n",
       "      <td>-0.555694</td>\n",
       "      <td>-0.848258</td>\n",
       "      <td>0.132180</td>\n",
       "      <td>-4.061760</td>\n",
       "      <td>1.661394</td>\n",
       "      <td>2.219988</td>\n",
       "      <td>0.360537</td>\n",
       "      <td>2.537116</td>\n",
       "      <td>-0.613588</td>\n",
       "      <td>2.078144</td>\n",
       "      <td>...</td>\n",
       "      <td>-2.492234</td>\n",
       "      <td>0.808907</td>\n",
       "      <td>-1.078887</td>\n",
       "      <td>3.438161</td>\n",
       "      <td>2.372122</td>\n",
       "      <td>1.899934</td>\n",
       "      <td>2.372122</td>\n",
       "      <td>2.219416</td>\n",
       "      <td>0.132180</td>\n",
       "      <td>2</td>\n",
       "    </tr>\n",
       "    <tr>\n",
       "      <th>1</th>\n",
       "      <td>0.293193</td>\n",
       "      <td>-2.628978</td>\n",
       "      <td>-1.154407</td>\n",
       "      <td>0.538828</td>\n",
       "      <td>-0.169857</td>\n",
       "      <td>3.487574</td>\n",
       "      <td>0.443397</td>\n",
       "      <td>-0.006410</td>\n",
       "      <td>-0.125778</td>\n",
       "      <td>1.223669</td>\n",
       "      <td>...</td>\n",
       "      <td>-1.723842</td>\n",
       "      <td>1.772836</td>\n",
       "      <td>0.467387</td>\n",
       "      <td>-1.501851</td>\n",
       "      <td>-3.599221</td>\n",
       "      <td>-0.968531</td>\n",
       "      <td>-3.599221</td>\n",
       "      <td>1.127776</td>\n",
       "      <td>-1.154407</td>\n",
       "      <td>0</td>\n",
       "    </tr>\n",
       "    <tr>\n",
       "      <th>2</th>\n",
       "      <td>-2.078656</td>\n",
       "      <td>-0.834492</td>\n",
       "      <td>1.241461</td>\n",
       "      <td>1.010122</td>\n",
       "      <td>-1.638526</td>\n",
       "      <td>0.247378</td>\n",
       "      <td>-1.887390</td>\n",
       "      <td>-1.331368</td>\n",
       "      <td>-2.159086</td>\n",
       "      <td>0.002788</td>\n",
       "      <td>...</td>\n",
       "      <td>-1.686278</td>\n",
       "      <td>-1.047410</td>\n",
       "      <td>-1.133299</td>\n",
       "      <td>-1.953928</td>\n",
       "      <td>-1.149684</td>\n",
       "      <td>1.111692</td>\n",
       "      <td>-1.149684</td>\n",
       "      <td>0.134184</td>\n",
       "      <td>1.241461</td>\n",
       "      <td>1</td>\n",
       "    </tr>\n",
       "    <tr>\n",
       "      <th>3</th>\n",
       "      <td>-1.294256</td>\n",
       "      <td>-2.804065</td>\n",
       "      <td>-1.335397</td>\n",
       "      <td>-1.351379</td>\n",
       "      <td>-0.327137</td>\n",
       "      <td>1.199219</td>\n",
       "      <td>0.262458</td>\n",
       "      <td>0.825120</td>\n",
       "      <td>-0.638883</td>\n",
       "      <td>1.660732</td>\n",
       "      <td>...</td>\n",
       "      <td>4.437570</td>\n",
       "      <td>-0.093413</td>\n",
       "      <td>2.637345</td>\n",
       "      <td>-2.415704</td>\n",
       "      <td>-4.679002</td>\n",
       "      <td>0.511314</td>\n",
       "      <td>-4.679002</td>\n",
       "      <td>0.805571</td>\n",
       "      <td>-1.335397</td>\n",
       "      <td>0</td>\n",
       "    </tr>\n",
       "    <tr>\n",
       "      <th>4</th>\n",
       "      <td>-0.525611</td>\n",
       "      <td>0.024948</td>\n",
       "      <td>1.609361</td>\n",
       "      <td>-0.248425</td>\n",
       "      <td>1.533188</td>\n",
       "      <td>0.580862</td>\n",
       "      <td>0.049771</td>\n",
       "      <td>-0.430270</td>\n",
       "      <td>-0.714264</td>\n",
       "      <td>-0.186867</td>\n",
       "      <td>...</td>\n",
       "      <td>0.404803</td>\n",
       "      <td>-0.733368</td>\n",
       "      <td>1.288384</td>\n",
       "      <td>-1.646543</td>\n",
       "      <td>-1.020989</td>\n",
       "      <td>0.658584</td>\n",
       "      <td>-1.020989</td>\n",
       "      <td>1.412792</td>\n",
       "      <td>1.609361</td>\n",
       "      <td>1</td>\n",
       "    </tr>\n",
       "    <tr>\n",
       "      <th>...</th>\n",
       "      <td>...</td>\n",
       "      <td>...</td>\n",
       "      <td>...</td>\n",
       "      <td>...</td>\n",
       "      <td>...</td>\n",
       "      <td>...</td>\n",
       "      <td>...</td>\n",
       "      <td>...</td>\n",
       "      <td>...</td>\n",
       "      <td>...</td>\n",
       "      <td>...</td>\n",
       "      <td>...</td>\n",
       "      <td>...</td>\n",
       "      <td>...</td>\n",
       "      <td>...</td>\n",
       "      <td>...</td>\n",
       "      <td>...</td>\n",
       "      <td>...</td>\n",
       "      <td>...</td>\n",
       "      <td>...</td>\n",
       "      <td>...</td>\n",
       "    </tr>\n",
       "    <tr>\n",
       "      <th>7995</th>\n",
       "      <td>0.405098</td>\n",
       "      <td>0.592920</td>\n",
       "      <td>2.441859</td>\n",
       "      <td>-1.134919</td>\n",
       "      <td>2.248627</td>\n",
       "      <td>2.509097</td>\n",
       "      <td>-0.227617</td>\n",
       "      <td>0.275321</td>\n",
       "      <td>-0.274926</td>\n",
       "      <td>-0.595862</td>\n",
       "      <td>...</td>\n",
       "      <td>-0.169544</td>\n",
       "      <td>-0.255823</td>\n",
       "      <td>2.695956</td>\n",
       "      <td>-2.220396</td>\n",
       "      <td>-2.432903</td>\n",
       "      <td>-0.131110</td>\n",
       "      <td>-2.432903</td>\n",
       "      <td>-0.479939</td>\n",
       "      <td>2.441859</td>\n",
       "      <td>1</td>\n",
       "    </tr>\n",
       "    <tr>\n",
       "      <th>7996</th>\n",
       "      <td>-0.404388</td>\n",
       "      <td>1.813804</td>\n",
       "      <td>-2.483380</td>\n",
       "      <td>2.093664</td>\n",
       "      <td>0.139423</td>\n",
       "      <td>2.617027</td>\n",
       "      <td>0.489677</td>\n",
       "      <td>1.387914</td>\n",
       "      <td>-0.363073</td>\n",
       "      <td>0.030530</td>\n",
       "      <td>...</td>\n",
       "      <td>0.124103</td>\n",
       "      <td>0.056482</td>\n",
       "      <td>-0.333988</td>\n",
       "      <td>-1.204211</td>\n",
       "      <td>-0.224673</td>\n",
       "      <td>1.521622</td>\n",
       "      <td>-0.224673</td>\n",
       "      <td>-1.096852</td>\n",
       "      <td>-2.483380</td>\n",
       "      <td>2</td>\n",
       "    </tr>\n",
       "    <tr>\n",
       "      <th>7997</th>\n",
       "      <td>0.233546</td>\n",
       "      <td>-1.003142</td>\n",
       "      <td>-2.121826</td>\n",
       "      <td>1.581558</td>\n",
       "      <td>1.152723</td>\n",
       "      <td>-0.987152</td>\n",
       "      <td>0.337969</td>\n",
       "      <td>-4.654229</td>\n",
       "      <td>-0.417682</td>\n",
       "      <td>-1.260857</td>\n",
       "      <td>...</td>\n",
       "      <td>2.469214</td>\n",
       "      <td>2.782867</td>\n",
       "      <td>0.888288</td>\n",
       "      <td>0.335607</td>\n",
       "      <td>-2.248307</td>\n",
       "      <td>-1.386542</td>\n",
       "      <td>-2.248307</td>\n",
       "      <td>0.934043</td>\n",
       "      <td>-2.121826</td>\n",
       "      <td>0</td>\n",
       "    </tr>\n",
       "    <tr>\n",
       "      <th>7998</th>\n",
       "      <td>1.120382</td>\n",
       "      <td>0.194409</td>\n",
       "      <td>-0.672968</td>\n",
       "      <td>0.005154</td>\n",
       "      <td>2.290353</td>\n",
       "      <td>4.112554</td>\n",
       "      <td>0.720367</td>\n",
       "      <td>0.563533</td>\n",
       "      <td>-1.009534</td>\n",
       "      <td>-1.551473</td>\n",
       "      <td>...</td>\n",
       "      <td>0.607569</td>\n",
       "      <td>3.102179</td>\n",
       "      <td>4.237942</td>\n",
       "      <td>-0.710731</td>\n",
       "      <td>-0.359420</td>\n",
       "      <td>-1.500903</td>\n",
       "      <td>-0.359420</td>\n",
       "      <td>-0.658633</td>\n",
       "      <td>-0.672968</td>\n",
       "      <td>1</td>\n",
       "    </tr>\n",
       "    <tr>\n",
       "      <th>7999</th>\n",
       "      <td>0.994641</td>\n",
       "      <td>-1.185386</td>\n",
       "      <td>-3.610239</td>\n",
       "      <td>0.185566</td>\n",
       "      <td>-1.534623</td>\n",
       "      <td>3.021333</td>\n",
       "      <td>-0.721372</td>\n",
       "      <td>-3.250708</td>\n",
       "      <td>-0.034000</td>\n",
       "      <td>-0.102102</td>\n",
       "      <td>...</td>\n",
       "      <td>-3.273256</td>\n",
       "      <td>3.908861</td>\n",
       "      <td>0.809098</td>\n",
       "      <td>2.970013</td>\n",
       "      <td>-2.104526</td>\n",
       "      <td>-0.419366</td>\n",
       "      <td>-2.104526</td>\n",
       "      <td>1.655029</td>\n",
       "      <td>-3.610239</td>\n",
       "      <td>3</td>\n",
       "    </tr>\n",
       "  </tbody>\n",
       "</table>\n",
       "<p>8000 rows × 21 columns</p>\n",
       "</div>"
      ],
      "text/plain": [
       "            F1        F2        F3        F4        F5        F6        F7  \\\n",
       "0    -0.555694 -0.848258  0.132180 -4.061760  1.661394  2.219988  0.360537   \n",
       "1     0.293193 -2.628978 -1.154407  0.538828 -0.169857  3.487574  0.443397   \n",
       "2    -2.078656 -0.834492  1.241461  1.010122 -1.638526  0.247378 -1.887390   \n",
       "3    -1.294256 -2.804065 -1.335397 -1.351379 -0.327137  1.199219  0.262458   \n",
       "4    -0.525611  0.024948  1.609361 -0.248425  1.533188  0.580862  0.049771   \n",
       "...        ...       ...       ...       ...       ...       ...       ...   \n",
       "7995  0.405098  0.592920  2.441859 -1.134919  2.248627  2.509097 -0.227617   \n",
       "7996 -0.404388  1.813804 -2.483380  2.093664  0.139423  2.617027  0.489677   \n",
       "7997  0.233546 -1.003142 -2.121826  1.581558  1.152723 -0.987152  0.337969   \n",
       "7998  1.120382  0.194409 -0.672968  0.005154  2.290353  4.112554  0.720367   \n",
       "7999  0.994641 -1.185386 -3.610239  0.185566 -1.534623  3.021333 -0.721372   \n",
       "\n",
       "            F8        F9       F10  ...       F12       F13       F14  \\\n",
       "0     2.537116 -0.613588  2.078144  ... -2.492234  0.808907 -1.078887   \n",
       "1    -0.006410 -0.125778  1.223669  ... -1.723842  1.772836  0.467387   \n",
       "2    -1.331368 -2.159086  0.002788  ... -1.686278 -1.047410 -1.133299   \n",
       "3     0.825120 -0.638883  1.660732  ...  4.437570 -0.093413  2.637345   \n",
       "4    -0.430270 -0.714264 -0.186867  ...  0.404803 -0.733368  1.288384   \n",
       "...        ...       ...       ...  ...       ...       ...       ...   \n",
       "7995  0.275321 -0.274926 -0.595862  ... -0.169544 -0.255823  2.695956   \n",
       "7996  1.387914 -0.363073  0.030530  ...  0.124103  0.056482 -0.333988   \n",
       "7997 -4.654229 -0.417682 -1.260857  ...  2.469214  2.782867  0.888288   \n",
       "7998  0.563533 -1.009534 -1.551473  ...  0.607569  3.102179  4.237942   \n",
       "7999 -3.250708 -0.034000 -0.102102  ... -3.273256  3.908861  0.809098   \n",
       "\n",
       "           F15       F16       F17       F18       F19       F20  CLASS  \n",
       "0     3.438161  2.372122  1.899934  2.372122  2.219416  0.132180      2  \n",
       "1    -1.501851 -3.599221 -0.968531 -3.599221  1.127776 -1.154407      0  \n",
       "2    -1.953928 -1.149684  1.111692 -1.149684  0.134184  1.241461      1  \n",
       "3    -2.415704 -4.679002  0.511314 -4.679002  0.805571 -1.335397      0  \n",
       "4    -1.646543 -1.020989  0.658584 -1.020989  1.412792  1.609361      1  \n",
       "...        ...       ...       ...       ...       ...       ...    ...  \n",
       "7995 -2.220396 -2.432903 -0.131110 -2.432903 -0.479939  2.441859      1  \n",
       "7996 -1.204211 -0.224673  1.521622 -0.224673 -1.096852 -2.483380      2  \n",
       "7997  0.335607 -2.248307 -1.386542 -2.248307  0.934043 -2.121826      0  \n",
       "7998 -0.710731 -0.359420 -1.500903 -0.359420 -0.658633 -0.672968      1  \n",
       "7999  2.970013 -2.104526 -0.419366 -2.104526  1.655029 -3.610239      3  \n",
       "\n",
       "[8000 rows x 21 columns]"
      ]
     },
     "execution_count": 7,
     "metadata": {},
     "output_type": "execute_result"
    }
   ],
   "source": [
    "dataset = pd.read_csv('training_set.csv')\n",
    "dataset"
   ]
  },
  {
   "cell_type": "code",
   "execution_count": 8,
   "metadata": {},
   "outputs": [
    {
     "name": "stdout",
     "output_type": "stream",
     "text": [
      "DATASET IMPORTED\n",
      "\n",
      "Dataset shape: (8000, 21)\n",
      "                F1           F2           F3           F4           F5  \\\n",
      "count  7994.000000  7994.000000  7999.000000  7999.000000  7996.000000   \n",
      "mean     -0.013077    -0.261413    -0.356239    -0.107298    -0.505798   \n",
      "std       1.006235     1.852793     1.794600     3.038362     1.818965   \n",
      "min      -4.181155    -6.980290    -7.563245   -13.133565    -9.011808   \n",
      "25%      -0.698506    -1.441144    -1.564076    -1.854212    -1.735180   \n",
      "50%      -0.028194    -0.261095    -0.375098    -0.022912    -0.511772   \n",
      "75%       0.666096     0.944857     0.824168     1.757135     0.691109   \n",
      "max       3.774161     7.155359     6.774458    10.975842     6.420768   \n",
      "\n",
      "                F6           F7           F8           F9          F10  ...  \\\n",
      "count  7994.000000  7996.000000  7991.000000  7994.000000  7994.000000  ...   \n",
      "mean      0.170845    -0.142636     0.135534    -0.004581     0.017338  ...   \n",
      "std       3.802454     1.901893     1.846124     1.005507     1.005563  ...   \n",
      "min     -15.887455    -7.934826    -8.608330    -3.472781    -3.697495  ...   \n",
      "25%      -2.187097    -1.412976    -1.099665    -0.684807    -0.672081  ...   \n",
      "50%       0.086112    -0.117316     0.144827     0.004093     0.029326  ...   \n",
      "75%       2.445748     1.121002     1.411072     0.664729     0.704140  ...   \n",
      "max      17.343261     7.222491     6.664533     3.811616     3.391975  ...   \n",
      "\n",
      "               F12          F13          F14          F15          F16  \\\n",
      "count  7994.000000  7997.000000  7990.000000  7998.000000  7994.000000   \n",
      "mean      0.000023    -0.051170    -0.011521     0.032990    -0.294768   \n",
      "std       1.960223     1.936503     2.069112     2.013245     1.970592   \n",
      "min      -7.212589    -8.133189    -7.823196    -8.969136    -7.037129   \n",
      "25%      -1.325372    -1.337362    -1.383780    -1.298123    -1.612006   \n",
      "50%      -0.037385    -0.067058    -0.036499    -0.033036    -0.308933   \n",
      "75%       1.283942     1.245172     1.365177     1.314362     1.021518   \n",
      "max       7.181241     8.819808     7.970802     9.235606     9.415568   \n",
      "\n",
      "               F17          F18          F19          F20        CLASS  \n",
      "count  7996.000000  7993.000000  7995.000000  7997.000000  8000.000000  \n",
      "mean     -0.026807    -0.293875     0.001092    -0.355555     1.463375  \n",
      "std       0.978187     1.971526     0.996603     1.794666     1.231198  \n",
      "min      -3.621038    -7.037129    -4.013615    -7.563245     0.000000  \n",
      "25%      -0.689233    -1.612119    -0.669021    -1.563262     0.000000  \n",
      "50%      -0.035249    -0.308409    -0.004635    -0.373514     2.000000  \n",
      "75%       0.634916     1.022557     0.676510     0.825741     3.000000  \n",
      "max       3.951352     9.415568     3.606960     6.774458     3.000000  \n",
      "\n",
      "[8 rows x 21 columns]\n"
     ]
    }
   ],
   "source": [
    "print(\"DATASET IMPORTED\")\n",
    "print('\\nDataset shape:', dataset.shape)\n",
    "print(dataset.describe())"
   ]
  },
  {
   "cell_type": "markdown",
   "metadata": {},
   "source": [
    "### Differenziare tra caratteristica dipendente e indipendente\n",
    "\n",
    "Nel set di dati sopra abbiamo 20 funzioni indipendenti, ovvero F1...F20 e una funzione dipendente, ovvero CLASS\n",
    "quindi inseriremo le feature indipendenti in una variabile chiamata X e feature dipendenti in Y\n"
   ]
  },
  {
   "cell_type": "code",
   "execution_count": 9,
   "metadata": {},
   "outputs": [
    {
     "name": "stdout",
     "output_type": "stream",
     "text": [
      "Variabili Indipendenti X:             F1        F2        F3        F4        F5        F6        F7  \\\n",
      "0    -0.555694 -0.848258  0.132180 -4.061760  1.661394  2.219988  0.360537   \n",
      "1     0.293193 -2.628978 -1.154407  0.538828 -0.169857  3.487574  0.443397   \n",
      "2    -2.078656 -0.834492  1.241461  1.010122 -1.638526  0.247378 -1.887390   \n",
      "3    -1.294256 -2.804065 -1.335397 -1.351379 -0.327137  1.199219  0.262458   \n",
      "4    -0.525611  0.024948  1.609361 -0.248425  1.533188  0.580862  0.049771   \n",
      "...        ...       ...       ...       ...       ...       ...       ...   \n",
      "7995  0.405098  0.592920  2.441859 -1.134919  2.248627  2.509097 -0.227617   \n",
      "7996 -0.404388  1.813804 -2.483380  2.093664  0.139423  2.617027  0.489677   \n",
      "7997  0.233546 -1.003142 -2.121826  1.581558  1.152723 -0.987152  0.337969   \n",
      "7998  1.120382  0.194409 -0.672968  0.005154  2.290353  4.112554  0.720367   \n",
      "7999  0.994641 -1.185386 -3.610239  0.185566 -1.534623  3.021333 -0.721372   \n",
      "\n",
      "            F8        F9       F10       F11       F12       F13       F14  \\\n",
      "0     2.537116 -0.613588  2.078144  0.128270 -2.492234  0.808907 -1.078887   \n",
      "1    -0.006410 -0.125778  1.223669  0.239508 -1.723842  1.772836  0.467387   \n",
      "2    -1.331368 -2.159086  0.002788 -0.397360 -1.686278 -1.047410 -1.133299   \n",
      "3     0.825120 -0.638883  1.660732 -2.045188  4.437570 -0.093413  2.637345   \n",
      "4    -0.430270 -0.714264 -0.186867  0.572004  0.404803 -0.733368  1.288384   \n",
      "...        ...       ...       ...       ...       ...       ...       ...   \n",
      "7995  0.275321 -0.274926 -0.595862  1.379110 -0.169544 -0.255823  2.695956   \n",
      "7996  1.387914 -0.363073  0.030530  0.962490  0.124103  0.056482 -0.333988   \n",
      "7997 -4.654229 -0.417682 -1.260857  4.472366  2.469214  2.782867  0.888288   \n",
      "7998  0.563533 -1.009534 -1.551473 -0.697174  0.607569  3.102179  4.237942   \n",
      "7999 -3.250708 -0.034000 -0.102102  6.857379 -3.273256  3.908861  0.809098   \n",
      "\n",
      "           F15       F16       F17       F18       F19       F20  \n",
      "0     3.438161  2.372122  1.899934  2.372122  2.219416  0.132180  \n",
      "1    -1.501851 -3.599221 -0.968531 -3.599221  1.127776 -1.154407  \n",
      "2    -1.953928 -1.149684  1.111692 -1.149684  0.134184  1.241461  \n",
      "3    -2.415704 -4.679002  0.511314 -4.679002  0.805571 -1.335397  \n",
      "4    -1.646543 -1.020989  0.658584 -1.020989  1.412792  1.609361  \n",
      "...        ...       ...       ...       ...       ...       ...  \n",
      "7995 -2.220396 -2.432903 -0.131110 -2.432903 -0.479939  2.441859  \n",
      "7996 -1.204211 -0.224673  1.521622 -0.224673 -1.096852 -2.483380  \n",
      "7997  0.335607 -2.248307 -1.386542 -2.248307  0.934043 -2.121826  \n",
      "7998 -0.710731 -0.359420 -1.500903 -0.359420 -0.658633 -0.672968  \n",
      "7999  2.970013 -2.104526 -0.419366 -2.104526  1.655029 -3.610239  \n",
      "\n",
      "[8000 rows x 20 columns]\n"
     ]
    }
   ],
   "source": [
    "# Separate features and target labels.\n",
    "target = 'CLASS'\n",
    "x = dataset.drop(target, axis=1)\n",
    "print('Variabili Indipendenti X:', x)"
   ]
  },
  {
   "cell_type": "code",
   "execution_count": 10,
   "metadata": {},
   "outputs": [
    {
     "name": "stdout",
     "output_type": "stream",
     "text": [
      "\n",
      "Variabili Dipendenti Y:       CLASS\n",
      "0         2\n",
      "1         0\n",
      "2         1\n",
      "3         0\n",
      "4         1\n",
      "...     ...\n",
      "7995      1\n",
      "7996      2\n",
      "7997      0\n",
      "7998      1\n",
      "7999      3\n",
      "\n",
      "[8000 rows x 1 columns]\n"
     ]
    }
   ],
   "source": [
    "y = dataset[[target]]\n",
    "print('\\nVariabili Dipendenti Y:', y)"
   ]
  },
  {
   "cell_type": "code",
   "execution_count": 11,
   "metadata": {},
   "outputs": [
    {
     "name": "stdout",
     "output_type": "stream",
     "text": [
      "\n",
      "Lista Features: ['F1', 'F2', 'F3', 'F4', 'F5', 'F6', 'F7', 'F8', 'F9', 'F10', 'F11', 'F12', 'F13', 'F14', 'F15', 'F16', 'F17', 'F18', 'F19', 'F20']\n"
     ]
    }
   ],
   "source": [
    "features_list = x.columns.values.tolist()\n",
    "print('\\nLista Features:', features_list)"
   ]
  },
  {
   "cell_type": "markdown",
   "metadata": {},
   "source": [
    "### Display data proportions after splitting."
   ]
  },
  {
   "cell_type": "code",
   "execution_count": 12,
   "metadata": {},
   "outputs": [
    {
     "name": "stdout",
     "output_type": "stream",
     "text": [
      "\n",
      "Training set shape: (6400, 20) (6400, 1)\n",
      "Test set shape: (1600, 20) (1600, 1)\n"
     ]
    }
   ],
   "source": [
    "# Split dataset in training set and test set.\n",
    "train_x, test_x, train_y, test_y = \\\n",
    "        model_select.train_test_split(x, y,\n",
    "                                      test_size=0.2,\n",
    "                                      random_state=42,\n",
    "                                      stratify=y)\n",
    "print('\\nTraining set shape:', train_x.shape, train_y.shape)\n",
    "print('Test set shape:', test_x.shape, test_y.shape)"
   ]
  },
  {
   "cell_type": "code",
   "execution_count": 13,
   "metadata": {},
   "outputs": [],
   "source": [
    "def show_classes_proportions(dataset, title):\n",
    "    \"\"\"Displays classes proportions.\"\"\"\n",
    "    data_counts = dataset['CLASS'].value_counts(normalize=True)\n",
    "    print('\\n' + title)\n",
    "    print(data_counts)\n",
    "    sns.countplot(x='CLASS', data=dataset).set(title=title)\n",
    "    plt.show()\n",
    "    return data_counts"
   ]
  },
  {
   "cell_type": "code",
   "execution_count": 14,
   "metadata": {},
   "outputs": [
    {
     "name": "stdout",
     "output_type": "stream",
     "text": [
      "\n",
      "Dataset classes proportions\n",
      "0    0.336750\n",
      "3    0.296750\n",
      "2    0.206625\n",
      "1    0.159875\n",
      "Name: CLASS, dtype: float64\n"
     ]
    },
    {
     "data": {
      "image/png": "[encoded data removed]",
      "text/plain": [
       "<Figure size 432x288 with 1 Axes>"
      ]
     },
     "metadata": {
      "needs_background": "light"
     },
     "output_type": "display_data"
    },
    {
     "data": {
      "text/plain": [
       "0    0.336750\n",
       "3    0.296750\n",
       "2    0.206625\n",
       "1    0.159875\n",
       "Name: CLASS, dtype: float64"
      ]
     },
     "execution_count": 14,
     "metadata": {},
     "output_type": "execute_result"
    }
   ],
   "source": [
    "show_classes_proportions(y, 'Dataset classes proportions')"
   ]
  },
  {
   "cell_type": "code",
   "execution_count": 15,
   "metadata": {},
   "outputs": [
    {
     "name": "stdout",
     "output_type": "stream",
     "text": [
      "\n",
      "Training set classes proportions\n",
      "0    0.336719\n",
      "3    0.296719\n",
      "2    0.206719\n",
      "1    0.159844\n",
      "Name: CLASS, dtype: float64\n"
     ]
    },
    {
     "data": {
      "image/png": "[encoded data removed]",
      "text/plain": [
       "<Figure size 432x288 with 1 Axes>"
      ]
     },
     "metadata": {
      "needs_background": "light"
     },
     "output_type": "display_data"
    },
    {
     "data": {
      "text/plain": [
       "0    0.336719\n",
       "3    0.296719\n",
       "2    0.206719\n",
       "1    0.159844\n",
       "Name: CLASS, dtype: float64"
      ]
     },
     "execution_count": 15,
     "metadata": {},
     "output_type": "execute_result"
    }
   ],
   "source": [
    "show_classes_proportions(train_y, 'Training set classes proportions')"
   ]
  },
  {
   "cell_type": "code",
   "execution_count": 16,
   "metadata": {},
   "outputs": [
    {
     "name": "stdout",
     "output_type": "stream",
     "text": [
      "\n",
      "Test set classes proportions\n",
      "0    0.336875\n",
      "3    0.296875\n",
      "2    0.206250\n",
      "1    0.160000\n",
      "Name: CLASS, dtype: float64\n"
     ]
    },
    {
     "data": {
      "image/png": "[encoded data removed]",
      "text/plain": [
       "<Figure size 432x288 with 1 Axes>"
      ]
     },
     "metadata": {
      "needs_background": "light"
     },
     "output_type": "display_data"
    },
    {
     "data": {
      "text/plain": [
       "0    0.336875\n",
       "3    0.296875\n",
       "2    0.206250\n",
       "1    0.160000\n",
       "Name: CLASS, dtype: float64"
      ]
     },
     "execution_count": 16,
     "metadata": {},
     "output_type": "execute_result"
    }
   ],
   "source": [
    "show_classes_proportions(test_y, 'Test set classes proportions')"
   ]
  },
  {
   "cell_type": "markdown",
   "metadata": {},
   "source": [
    "### Definisco la classe per la sostituzione dei NaN"
   ]
  },
  {
   "cell_type": "code",
   "execution_count": 17,
   "metadata": {},
   "outputs": [],
   "source": [
    "class KNNReplacerIQR(KNNImputer):\n",
    "    \"\"\"Pipeline-compliant KNNReplacer, based on IQR.\"\"\"\n",
    "\n",
    "    def __init__(self, n_neighbors=5):\n",
    "        super().__init__(n_neighbors=n_neighbors)\n",
    "        self.lower_bound = None\n",
    "        self.upper_bound = None\n",
    "        self.imputer = KNNImputer(n_neighbors=n_neighbors)\n",
    "\n",
    "    def fit(self, x, y=None):\n",
    "        \"\"\"Computes IQR bound and fits the imputer on the data.\"\"\"\n",
    "        x = pd.DataFrame(x)\n",
    "        q1 = x.quantile(0.25)\n",
    "        q3 = x.quantile(0.75)\n",
    "        iqr = q3 - q1\n",
    "        self.lower_bound = q1 - (1.5* iqr)\n",
    "        self.upper_bound = q3 + (1.5* iqr)\n",
    "        self.imputer.fit(\n",
    "            x.where(~((x < self.lower_bound) | (x > self.upper_bound)), np.nan)\n",
    "        )\n",
    "        return self\n",
    "\n",
    "    def transform(self, x, y=None):\n",
    "        \"\"\"Detects outliers and replaces them with the imputer.\"\"\"\n",
    "        x = pd.DataFrame(x)\n",
    "        x.where(~((x < self.lower_bound) | (x > self.upper_bound)),\n",
    "                np.nan,\n",
    "                inplace=True)\n",
    "        return self.imputer.transform(x)"
   ]
  },
  {
   "cell_type": "markdown",
   "metadata": {},
   "source": [
    "### Definisco le Pipelines"
   ]
  },
  {
   "cell_type": "code",
   "execution_count": 18,
   "metadata": {},
   "outputs": [],
   "source": [
    "# Define pipelines for preprocessing with SVMs (RBF kernel).\n",
    "\n",
    "pipe_rbf_knn_iqr = Pipeline([('imputer', KNNImputer()),\n",
    "                                ('replacer', KNNReplacerIQR()),\n",
    "                                ('scaler', StandardScaler()),\n",
    "                                ('classifier',\n",
    "                                 SVC(kernel='rbf',\n",
    "                                     decision_function_shape='ovo',\n",
    "                                     random_state=42,\n",
    "                                     cache_size=3000))\n",
    "                                 ])\n",
    "                                "
   ]
  },
  {
   "cell_type": "code",
   "execution_count": 19,
   "metadata": {},
   "outputs": [],
   "source": [
    "# Set the parameters grids.\n",
    "grid_pipe_knn_rbf = {'imputer__n_neighbors': [2],\n",
    "                         'replacer__n_neighbors': [2],\n",
    "                         'classifier__C': [50],\n",
    "                         'classifier__gamma': [0.01],\n",
    "                         'classifier__class_weight': [None]\n",
    "                         }"
   ]
  },
  {
   "cell_type": "code",
   "execution_count": 20,
   "metadata": {},
   "outputs": [],
   "source": [
    "# Define grid searches for each pipeline.\n",
    "gs_rbf_knn_iqr = model_select.GridSearchCV(pipe_rbf_knn_iqr,\n",
    "                                               param_grid=grid_pipe_knn_rbf,\n",
    "                                               scoring='f1_macro',\n",
    "                                               cv=5,\n",
    "                                               refit=True,\n",
    "                                               n_jobs=-1)"
   ]
  },
  {
   "cell_type": "code",
   "execution_count": 21,
   "metadata": {},
   "outputs": [],
   "source": [
    "# List of pipeline grids for ease of iteration.\n",
    "grids = [gs_rbf_knn_iqr]"
   ]
  },
  {
   "cell_type": "code",
   "execution_count": 22,
   "metadata": {},
   "outputs": [],
   "source": [
    "# Dictionary of pipelines and classifier types for ease of reference.\n",
    "grid_dict_pipe = {0: 'SVM-RBF_KNN-IQR'}"
   ]
  },
  {
   "cell_type": "code",
   "execution_count": 23,
   "metadata": {},
   "outputs": [
    {
     "name": "stdout",
     "output_type": "stream",
     "text": [
      "\n",
      "MODEL OPTIMIZATIONS STARTED\n",
      "Currently trying model: SVM-RBF_KNN-IQR\n",
      "\n",
      "Grid scores:\n",
      "0.8205 (+/-0.018) for {'classifier__C': 50, 'classifier__class_weight': None, 'classifier__gamma': 0.01, 'imputer__n_neighbors': 2, 'replacer__n_neighbors': 2}\n",
      "\n",
      "Best parameters:\n",
      "{'classifier__C': 50, 'classifier__class_weight': None, 'classifier__gamma': 0.01, 'imputer__n_neighbors': 2, 'replacer__n_neighbors': 2}\n",
      "\n",
      "Best score: 0.8205\n"
     ]
    }
   ],
   "source": [
    "# Fit the grid search objects and look for the best model.\n",
    "print(\"\\nMODEL OPTIMIZATIONS STARTED\")\n",
    "best_f1 = 0.0\n",
    "best_idx = 0\n",
    "best_pipe = None\n",
    "for idx, pipe_gs in enumerate(grids):\n",
    "    print('Currently trying model: %s' % grid_dict_pipe[idx])\n",
    "\n",
    "    # Perform grid search.\n",
    "    pipe_gs.fit(train_x, train_y[target])\n",
    "\n",
    "    # Dump detailed scores on a file.\n",
    "    results_file = open(grid_dict_pipe[idx] + '_results.txt', 'w')\n",
    "\n",
    "    # Print scores and update bests.\n",
    "    print(\"\\nGrid scores:\")\n",
    "    means = pipe_gs.cv_results_['mean_test_score']\n",
    "    stds = pipe_gs.cv_results_['std_test_score']\n",
    "    for mean, std, params in zip(means, stds,\n",
    "                                 pipe_gs.cv_results_['params']):\n",
    "        print(\"%0.4f (+/-%0.03f) for %r\" % (mean, std * 2, params))\n",
    "        results_file.write(\"%0.4f (+/-%0.03f) for %r\\n\"\n",
    "                           % (mean, std * 2, params))\n",
    "    print(\"\\nBest parameters:\")\n",
    "    print(pipe_gs.best_params_)\n",
    "    print(\"\\nBest score: %0.4f\" % pipe_gs.best_score_)\n",
    "    if pipe_gs.best_score_ > best_f1:\n",
    "        best_f1 = pipe_gs.best_score_\n",
    "        best_idx = idx\n",
    "        best_pipe = pipe_gs.best_estimator_\n",
    "    results_file.write(\"\\nBest parameters:\\n%r\\n\" % pipe_gs.best_params_)\n",
    "    results_file.write(\"\\nBest score: %0.4f\\n\" % pipe_gs.best_score_)\n",
    "\n",
    "    results_file.close()"
   ]
  },
  {
   "cell_type": "code",
   "execution_count": null,
   "metadata": {},
   "outputs": [],
   "source": [
    "print('\\nPipeline with best training set F1 macro score: %s'\n",
    "          % grid_dict_pipe[best_idx])"
   ]
  },
  {
   "cell_type": "markdown",
   "metadata": {},
   "source": [
    "### Data Preparation"
   ]
  },
  {
   "cell_type": "code",
   "execution_count": null,
   "metadata": {},
   "outputs": [],
   "source": [
    "def get_na_count(df):\n",
    "    \"\"\"Count missing values.\"\"\"\n",
    "    na_mask = df.isna()\n",
    "    return na_mask.sum().sum()"
   ]
  },
  {
   "cell_type": "code",
   "execution_count": null,
   "metadata": {},
   "outputs": [],
   "source": [
    "def data_preparation_info(train_x, feats_names, pipeline):\n",
    "    \"\"\"Prints information on the dataset.\"\"\"\n",
    "    # Missing values.\n",
    "    print('\\nMissing values')\n",
    "    print('Train NaNs: ', get_na_count(train_x))\n",
    "\n",
    "    # KNN-based NaN filling.\n",
    "    imputer = pipeline.named_steps['imputer']\n",
    "    train_x = pd.DataFrame(imputer.transform(train_x))\n",
    "    if get_na_count(train_x) != 0:\n",
    "        print('ERROR: Missing values filling failed.')\n",
    "        sys.exit(1)\n",
    "    \n",
    "    # Outliers processing.\n",
    "    print('\\nOutliers')\n",
    "    show_boxplot_features(train_x, 'Training set with outliers')\n",
    "    replacer = pipeline.named_steps['replacer']\n",
    "    train_x = pd.DataFrame(replacer.transform(train_x))\n",
    "    if get_na_count(train_x) != 0:\n",
    "        print('ERROR: Outliers processing failed.')\n",
    "        sys.exit(1)\n",
    "    show_boxplot_features(train_x, 'Training set with replaced outliers')\n",
    "\n",
    "    # Scale the training set.\n",
    "    print('\\nScaling')\n",
    "    scaler = pipeline.named_steps['scaler']\n",
    "    train_x = pd.DataFrame(scaler.transform(train_x))\n",
    "    print(\"Training set features properties after scaling:\")\n",
    "    print(train_x.describe())\n",
    "    show_boxplot_features(train_x, 'Training set after scaling')\n",
    "\n",
    "    # Feature selection information using PCA.\n",
    "    pca = PCA(random_state=42)\n",
    "    pca = pca.fit(train_x)\n",
    "    show_histogram_features(pca.explained_variance_ratio_,\n",
    "                            feats_names,\n",
    "                            'Feature importance by variance ratios')"
   ]
  },
  {
   "cell_type": "code",
   "execution_count": null,
   "metadata": {},
   "outputs": [],
   "source": [
    "def show_boxplot_features(dataset, title):\n",
    "    \"\"\"Displays features boxplot.\"\"\"\n",
    "    sns.boxplot(data=dataset).set(title=title)\n",
    "    plt.show()"
   ]
  },
  {
   "cell_type": "code",
   "execution_count": null,
   "metadata": {},
   "outputs": [],
   "source": [
    "def show_histogram_features(data, feat_names, title):\n",
    "    \"\"\"Displays features histogram.\"\"\"\n",
    "    fig, ax = plt.subplots()\n",
    "    ax.bar(feat_names, data)\n",
    "    ax.set_title(title)\n",
    "    plt.show()"
   ]
  },
  {
   "cell_type": "code",
   "execution_count": 27,
   "metadata": {},
   "outputs": [
    {
     "name": "stdout",
     "output_type": "stream",
     "text": [
      "\n",
      "Missing values\n",
      "Train NaNs:  100\n",
      "\n",
      "Outliers\n"
     ]
    },
    {
     "data": {
      "image/png": "[encoded data removed]",
      "text/plain": [
       "<Figure size 432x288 with 1 Axes>"
      ]
     },
     "metadata": {
      "needs_background": "light"
     },
     "output_type": "display_data"
    },
    {
     "data": {
      "image/png": "[encoded data removed]",
      "text/plain": [
       "<Figure size 432x288 with 1 Axes>"
      ]
     },
     "metadata": {
      "needs_background": "light"
     },
     "output_type": "display_data"
    },
    {
     "name": "stdout",
     "output_type": "stream",
     "text": [
      "\n",
      "Scaling\n",
      "Training set features properties after scaling:\n",
      "                0            1            2            3            4   \\\n",
      "count  8000.000000  8000.000000  8000.000000  8000.000000  8000.000000   \n",
      "mean      0.003996    -0.003067     0.003400    -0.007620    -0.001853   \n",
      "std       1.002431     1.004364     1.003433     1.000447     1.000451   \n",
      "min      -2.787146    -2.676752    -2.735881    -2.533045    -2.762361   \n",
      "25%      -0.694430    -0.670716    -0.691768    -0.633385    -0.702187   \n",
      "50%      -0.009937    -0.007869    -0.005409     0.012693    -0.004910   \n",
      "75%       0.689609     0.668253     0.684749     0.642217     0.677851   \n",
      "max       2.751795     2.685713     2.714687     2.550656     2.753200   \n",
      "\n",
      "                5            6            7            8            9   \\\n",
      "count  8000.000000  8000.000000  8000.000000  8000.000000  8000.000000   \n",
      "mean      0.003644    -0.002249     0.003300     0.001283    -0.006253   \n",
      "std       1.005487     1.004554     1.007718     0.998347     1.001528   \n",
      "min      -2.585357    -2.722634    -2.788004    -2.776301    -2.812129   \n",
      "25%      -0.656371    -0.691530    -0.685189    -0.687625    -0.706194   \n",
      "50%      -0.017496     0.012473     0.007888     0.015374     0.006040   \n",
      "75%       0.645059     0.684798     0.710600     0.687437     0.686238   \n",
      "max       2.560038     2.742161     2.806844     2.736739     2.794167   \n",
      "\n",
      "                10           11           12           13           14  \\\n",
      "count  8000.000000  8000.000000  8000.000000  8000.000000  8000.000000   \n",
      "mean     -0.000620    -0.001687     0.005863     0.009309     0.006535   \n",
      "std       0.999141     0.996384     0.997283     0.995883     0.994301   \n",
      "min      -2.742898    -2.715959    -2.777889    -2.694818    -2.669773   \n",
      "25%      -0.676050    -0.690839    -0.680299    -0.668207    -0.667606   \n",
      "50%       0.033045    -0.019088    -0.002216    -0.003364    -0.023146   \n",
      "75%       0.696838     0.669289     0.699540     0.691169     0.662387   \n",
      "max       2.758028     2.718651     2.779577     2.733101     2.642094   \n",
      "\n",
      "                15           16           17           18           19  \n",
      "count  8000.000000  8000.000000  8000.000000  8000.000000  8000.000000  \n",
      "mean     -0.002979    -0.004979    -0.002828    -0.001850     0.003387  \n",
      "std       1.005897     1.000432     1.005838     0.995481     1.003402  \n",
      "min      -2.738144    -2.761878    -2.760270    -2.719299    -2.736254  \n",
      "25%      -0.696729    -0.694113    -0.696021    -0.691226    -0.691582  \n",
      "50%      -0.010205    -0.012266    -0.009750    -0.011245    -0.005553  \n",
      "75%       0.689990     0.687719     0.689880     0.685278     0.684663  \n",
      "max       2.753643     2.785074     2.751867     2.768942     2.714771  \n"
     ]
    },
    {
     "data": {
      "image/png": "[encoded data removed]",
      "text/plain": [
       "<Figure size 432x288 with 1 Axes>"
      ]
     },
     "metadata": {
      "needs_background": "light"
     },
     "output_type": "display_data"
    },
    {
     "data": {
      "image/png": "[encoded data removed]",
      "text/plain": [
       "<Figure size 432x288 with 1 Axes>"
      ]
     },
     "metadata": {
      "needs_background": "light"
     },
     "output_type": "display_data"
    }
   ],
   "source": [
    "# Show information and plots about best preprocessing pipeline.\n",
    "data_preparation_info(x, features_list, best_pipe)"
   ]
  },
  {
   "cell_type": "code",
   "execution_count": 28,
   "metadata": {},
   "outputs": [],
   "source": [
    "def show_confusion_matrix(cm, f1_score, title):\n",
    "    \"\"\"Displays confusion matrix with annotations.\"\"\"\n",
    "    # Create annotations label.\n",
    "    group_counts = [\"{0:0.0f}\\n\".format(value) for value in cm.flatten()]\n",
    "    group_percentages =\\\n",
    "        [\"{0:.2%}\".format(value) for value in cm.flatten() / np.sum(cm)]\n",
    "    box_labels =\\\n",
    "        [f\"{v1}{v2}\".strip() for v1, v2 in zip(group_counts, group_percentages)]\n",
    "    box_labels = np.asarray(box_labels).reshape(cm.shape[0], cm.shape[1])\n",
    "    # Show confusion matrix with heat map.\n",
    "    sns.heatmap(cm,\n",
    "                annot=box_labels,\n",
    "                fmt=\"\",\n",
    "                cmap=\"YlGnBu\",\n",
    "                cbar=False,\n",
    "                linewidths=1.0)\\\n",
    "        .set(title=title,\n",
    "             xlabel='Predicted class\\n\\nF1 macro: %0.4f' % f1_score,\n",
    "             ylabel='Actual class')\n",
    "    plt.show()"
   ]
  },
  {
   "cell_type": "code",
   "execution_count": 29,
   "metadata": {},
   "outputs": [],
   "source": [
    "def evaluate_classifier(classifier, data_x, data_y, matrix_title='', show=True):\n",
    "    \"\"\"Preprocesses test set and evaluates classifiers.\"\"\"\n",
    "    pred_y = classifier.predict(data_x)\n",
    "    confusion_matrix = metrics.confusion_matrix(data_y, pred_y)\n",
    "    f1_score = metrics.f1_score(data_y, pred_y, average='macro')\n",
    "    if show:\n",
    "        show_confusion_matrix(confusion_matrix, f1_score, matrix_title)\n",
    "    return f1_score"
   ]
  },
  {
   "cell_type": "code",
   "execution_count": 30,
   "metadata": {},
   "outputs": [
    {
     "data": {
      "image/png": "[encoded data removed]",
      "text/plain": [
       "<Figure size 432x288 with 1 Axes>"
      ]
     },
     "metadata": {
      "needs_background": "light"
     },
     "output_type": "display_data"
    },
    {
     "name": "stdout",
     "output_type": "stream",
     "text": [
      "\n",
      "Test set F1 macro: 0.8226\n"
     ]
    }
   ],
   "source": [
    "# Evaluates the pipeline on the test set.\n",
    "print('\\nTest set F1 macro: %0.4f'\n",
    "          % evaluate_classifier(best_pipe,\n",
    "                                test_x,\n",
    "                                test_y[target],\n",
    "                                'Test Set Confusion matrix'))"
   ]
  },
  {
   "cell_type": "code",
   "execution_count": 31,
   "metadata": {},
   "outputs": [
    {
     "name": "stdout",
     "output_type": "stream",
     "text": [
      "\n",
      "RE-FITTING BEST PIPELINE ON WHOLE DATASET\n"
     ]
    },
    {
     "data": {
      "image/png": "[encoded data removed]",
      "text/plain": [
       "<Figure size 432x288 with 1 Axes>"
      ]
     },
     "metadata": {
      "needs_background": "light"
     },
     "output_type": "display_data"
    },
    {
     "name": "stdout",
     "output_type": "stream",
     "text": [
      "\n",
      "(Pre-save) Dataset F1 macro: 0.8640\n"
     ]
    }
   ],
   "source": [
    "# Refit the best pipeline on the whole dataset.\n",
    "print(\"\\nRE-FITTING BEST PIPELINE ON WHOLE DATASET\")\n",
    "best_pipe = best_pipe.fit(x, y[target])\n",
    "print('\\n(Pre-save) Dataset F1 macro: %0.4f'\n",
    "          % evaluate_classifier(best_pipe,\n",
    "                                x,\n",
    "                                y[target],\n",
    "                                'Dataset Confusion matrix'))"
   ]
  },
  {
   "cell_type": "code",
   "execution_count": 32,
   "metadata": {},
   "outputs": [],
   "source": [
    "# Serialize and dump the best model.\n",
    "pipeline_path = 'best_pipeline.sav'\n",
    "with open(pipeline_path, 'wb') as model_file:\n",
    "        pickle.dump(best_pipe, model_file)"
   ]
  },
  {
   "cell_type": "code",
   "execution_count": 33,
   "metadata": {},
   "outputs": [
    {
     "name": "stdout",
     "output_type": "stream",
     "text": [
      "\n",
      "(Post-save) Dataset F1 macro: 0.8640\n"
     ]
    }
   ],
   "source": [
    "# Reload best model and check if the save went well.\n",
    "with open(pipeline_path, 'rb') as model_file:\n",
    "        model = pickle.load(model_file)\n",
    "print('\\n(Post-save) Dataset F1 macro: %0.4f'\n",
    "          % evaluate_classifier(model,\n",
    "                                x,\n",
    "                                y[target],\n",
    "                                show=False))"
   ]
  },
  {
   "cell_type": "code",
   "execution_count": null,
   "metadata": {},
   "outputs": [],
   "source": []
  },
  {
   "cell_type": "code",
   "execution_count": null,
   "metadata": {},
   "outputs": [],
   "source": []
  },
  {
   "cell_type": "code",
   "execution_count": null,
   "metadata": {},
   "outputs": [],
   "source": []
  }
 ],
 "metadata": {
  "kernelspec": {
   "display_name": "Python 3",
   "language": "python",
   "name": "python3"
  },
  "language_info": {
   "codemirror_mode": {
    "name": "ipython",
    "version": 3
   },
   "file_extension": ".py",
   "mimetype": "text/x-python",
   "name": "python",
   "nbconvert_exporter": "python",
   "pygments_lexer": "ipython3",
   "version": "3.7.7"
  }
 },
 "nbformat": 4,
 "nbformat_minor": 4
}